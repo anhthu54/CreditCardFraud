{
  "cells": [
    {
      "cell_type": "markdown",
      "metadata": {
        "id": "view-in-github",
        "colab_type": "text"
      },
      "source": [
        "<a href=\"https://colab.research.google.com/github/anhthu54/CreditCardFraud/blob/main/CreditCardFraudDetection.ipynb\" target=\"_parent\"><img src=\"https://colab.research.google.com/assets/colab-badge.svg\" alt=\"Open In Colab\"/></a>"
      ]
    },
    {
      "cell_type": "markdown",
      "metadata": {
        "id": "BQaGCvlZDkd_"
      },
      "source": [
        "#Prepare data"
      ]
    },
    {
      "cell_type": "code",
      "execution_count": null,
      "metadata": {
        "id": "h8CRkxUi3xUw"
      },
      "outputs": [],
      "source": [
        "import pandas as pd\n",
        "import matplotlib.pyplot as plt\n",
        "import seaborn as sns"
      ]
    },
    {
      "cell_type": "code",
      "execution_count": null,
      "metadata": {
        "id": "atQX0-GW39gr"
      },
      "outputs": [],
      "source": [
        "df = pd.read_csv('creditcard.csv')"
      ]
    },
    {
      "cell_type": "markdown",
      "metadata": {
        "id": "TzZv_T-zcSLD"
      },
      "source": [
        "#Data exploration"
      ]
    },
    {
      "cell_type": "code",
      "execution_count": null,
      "metadata": {
        "colab": {
          "base_uri": "https://localhost:8080/",
          "height": 235
        },
        "id": "G72W6cUm3_C2",
        "outputId": "a7ad4ed9-f10b-4777-e519-6abe8cb465fb"
      },
      "outputs": [
        {
          "data": {
            "application/vnd.google.colaboratory.intrinsic+json": {
              "type": "dataframe",
              "variable_name": "df"
            },
            "text/html": [
              "\n",
              "  <div id=\"df-7efa5683-f786-4b8c-a39c-59a415501e9e\" class=\"colab-df-container\">\n",
              "    <div>\n",
              "<style scoped>\n",
              "    .dataframe tbody tr th:only-of-type {\n",
              "        vertical-align: middle;\n",
              "    }\n",
              "\n",
              "    .dataframe tbody tr th {\n",
              "        vertical-align: top;\n",
              "    }\n",
              "\n",
              "    .dataframe thead th {\n",
              "        text-align: right;\n",
              "    }\n",
              "</style>\n",
              "<table border=\"1\" class=\"dataframe\">\n",
              "  <thead>\n",
              "    <tr style=\"text-align: right;\">\n",
              "      <th></th>\n",
              "      <th>Time</th>\n",
              "      <th>V1</th>\n",
              "      <th>V2</th>\n",
              "      <th>V3</th>\n",
              "      <th>V4</th>\n",
              "      <th>V5</th>\n",
              "      <th>V6</th>\n",
              "      <th>V7</th>\n",
              "      <th>V8</th>\n",
              "      <th>V9</th>\n",
              "      <th>...</th>\n",
              "      <th>V21</th>\n",
              "      <th>V22</th>\n",
              "      <th>V23</th>\n",
              "      <th>V24</th>\n",
              "      <th>V25</th>\n",
              "      <th>V26</th>\n",
              "      <th>V27</th>\n",
              "      <th>V28</th>\n",
              "      <th>Amount</th>\n",
              "      <th>Class</th>\n",
              "    </tr>\n",
              "  </thead>\n",
              "  <tbody>\n",
              "    <tr>\n",
              "      <th>0</th>\n",
              "      <td>0.0</td>\n",
              "      <td>-1.359807</td>\n",
              "      <td>-0.072781</td>\n",
              "      <td>2.536347</td>\n",
              "      <td>1.378155</td>\n",
              "      <td>-0.338321</td>\n",
              "      <td>0.462388</td>\n",
              "      <td>0.239599</td>\n",
              "      <td>0.098698</td>\n",
              "      <td>0.363787</td>\n",
              "      <td>...</td>\n",
              "      <td>-0.018307</td>\n",
              "      <td>0.277838</td>\n",
              "      <td>-0.110474</td>\n",
              "      <td>0.066928</td>\n",
              "      <td>0.128539</td>\n",
              "      <td>-0.189115</td>\n",
              "      <td>0.133558</td>\n",
              "      <td>-0.021053</td>\n",
              "      <td>149.62</td>\n",
              "      <td>0</td>\n",
              "    </tr>\n",
              "    <tr>\n",
              "      <th>1</th>\n",
              "      <td>0.0</td>\n",
              "      <td>1.191857</td>\n",
              "      <td>0.266151</td>\n",
              "      <td>0.166480</td>\n",
              "      <td>0.448154</td>\n",
              "      <td>0.060018</td>\n",
              "      <td>-0.082361</td>\n",
              "      <td>-0.078803</td>\n",
              "      <td>0.085102</td>\n",
              "      <td>-0.255425</td>\n",
              "      <td>...</td>\n",
              "      <td>-0.225775</td>\n",
              "      <td>-0.638672</td>\n",
              "      <td>0.101288</td>\n",
              "      <td>-0.339846</td>\n",
              "      <td>0.167170</td>\n",
              "      <td>0.125895</td>\n",
              "      <td>-0.008983</td>\n",
              "      <td>0.014724</td>\n",
              "      <td>2.69</td>\n",
              "      <td>0</td>\n",
              "    </tr>\n",
              "    <tr>\n",
              "      <th>2</th>\n",
              "      <td>1.0</td>\n",
              "      <td>-1.358354</td>\n",
              "      <td>-1.340163</td>\n",
              "      <td>1.773209</td>\n",
              "      <td>0.379780</td>\n",
              "      <td>-0.503198</td>\n",
              "      <td>1.800499</td>\n",
              "      <td>0.791461</td>\n",
              "      <td>0.247676</td>\n",
              "      <td>-1.514654</td>\n",
              "      <td>...</td>\n",
              "      <td>0.247998</td>\n",
              "      <td>0.771679</td>\n",
              "      <td>0.909412</td>\n",
              "      <td>-0.689281</td>\n",
              "      <td>-0.327642</td>\n",
              "      <td>-0.139097</td>\n",
              "      <td>-0.055353</td>\n",
              "      <td>-0.059752</td>\n",
              "      <td>378.66</td>\n",
              "      <td>0</td>\n",
              "    </tr>\n",
              "    <tr>\n",
              "      <th>3</th>\n",
              "      <td>1.0</td>\n",
              "      <td>-0.966272</td>\n",
              "      <td>-0.185226</td>\n",
              "      <td>1.792993</td>\n",
              "      <td>-0.863291</td>\n",
              "      <td>-0.010309</td>\n",
              "      <td>1.247203</td>\n",
              "      <td>0.237609</td>\n",
              "      <td>0.377436</td>\n",
              "      <td>-1.387024</td>\n",
              "      <td>...</td>\n",
              "      <td>-0.108300</td>\n",
              "      <td>0.005274</td>\n",
              "      <td>-0.190321</td>\n",
              "      <td>-1.175575</td>\n",
              "      <td>0.647376</td>\n",
              "      <td>-0.221929</td>\n",
              "      <td>0.062723</td>\n",
              "      <td>0.061458</td>\n",
              "      <td>123.50</td>\n",
              "      <td>0</td>\n",
              "    </tr>\n",
              "    <tr>\n",
              "      <th>4</th>\n",
              "      <td>2.0</td>\n",
              "      <td>-1.158233</td>\n",
              "      <td>0.877737</td>\n",
              "      <td>1.548718</td>\n",
              "      <td>0.403034</td>\n",
              "      <td>-0.407193</td>\n",
              "      <td>0.095921</td>\n",
              "      <td>0.592941</td>\n",
              "      <td>-0.270533</td>\n",
              "      <td>0.817739</td>\n",
              "      <td>...</td>\n",
              "      <td>-0.009431</td>\n",
              "      <td>0.798278</td>\n",
              "      <td>-0.137458</td>\n",
              "      <td>0.141267</td>\n",
              "      <td>-0.206010</td>\n",
              "      <td>0.502292</td>\n",
              "      <td>0.219422</td>\n",
              "      <td>0.215153</td>\n",
              "      <td>69.99</td>\n",
              "      <td>0</td>\n",
              "    </tr>\n",
              "  </tbody>\n",
              "</table>\n",
              "<p>5 rows × 31 columns</p>\n",
              "</div>\n",
              "    <div class=\"colab-df-buttons\">\n",
              "\n",
              "  <div class=\"colab-df-container\">\n",
              "    <button class=\"colab-df-convert\" onclick=\"convertToInteractive('df-7efa5683-f786-4b8c-a39c-59a415501e9e')\"\n",
              "            title=\"Convert this dataframe to an interactive table.\"\n",
              "            style=\"display:none;\">\n",
              "\n",
              "  <svg xmlns=\"http://www.w3.org/2000/svg\" height=\"24px\" viewBox=\"0 -960 960 960\">\n",
              "    <path d=\"M120-120v-720h720v720H120Zm60-500h600v-160H180v160Zm220 220h160v-160H400v160Zm0 220h160v-160H400v160ZM180-400h160v-160H180v160Zm440 0h160v-160H620v160ZM180-180h160v-160H180v160Zm440 0h160v-160H620v160Z\"/>\n",
              "  </svg>\n",
              "    </button>\n",
              "\n",
              "  <style>\n",
              "    .colab-df-container {\n",
              "      display:flex;\n",
              "      gap: 12px;\n",
              "    }\n",
              "\n",
              "    .colab-df-convert {\n",
              "      background-color: #E8F0FE;\n",
              "      border: none;\n",
              "      border-radius: 50%;\n",
              "      cursor: pointer;\n",
              "      display: none;\n",
              "      fill: #1967D2;\n",
              "      height: 32px;\n",
              "      padding: 0 0 0 0;\n",
              "      width: 32px;\n",
              "    }\n",
              "\n",
              "    .colab-df-convert:hover {\n",
              "      background-color: #E2EBFA;\n",
              "      box-shadow: 0px 1px 2px rgba(60, 64, 67, 0.3), 0px 1px 3px 1px rgba(60, 64, 67, 0.15);\n",
              "      fill: #174EA6;\n",
              "    }\n",
              "\n",
              "    .colab-df-buttons div {\n",
              "      margin-bottom: 4px;\n",
              "    }\n",
              "\n",
              "    [theme=dark] .colab-df-convert {\n",
              "      background-color: #3B4455;\n",
              "      fill: #D2E3FC;\n",
              "    }\n",
              "\n",
              "    [theme=dark] .colab-df-convert:hover {\n",
              "      background-color: #434B5C;\n",
              "      box-shadow: 0px 1px 3px 1px rgba(0, 0, 0, 0.15);\n",
              "      filter: drop-shadow(0px 1px 2px rgba(0, 0, 0, 0.3));\n",
              "      fill: #FFFFFF;\n",
              "    }\n",
              "  </style>\n",
              "\n",
              "    <script>\n",
              "      const buttonEl =\n",
              "        document.querySelector('#df-7efa5683-f786-4b8c-a39c-59a415501e9e button.colab-df-convert');\n",
              "      buttonEl.style.display =\n",
              "        google.colab.kernel.accessAllowed ? 'block' : 'none';\n",
              "\n",
              "      async function convertToInteractive(key) {\n",
              "        const element = document.querySelector('#df-7efa5683-f786-4b8c-a39c-59a415501e9e');\n",
              "        const dataTable =\n",
              "          await google.colab.kernel.invokeFunction('convertToInteractive',\n",
              "                                                    [key], {});\n",
              "        if (!dataTable) return;\n",
              "\n",
              "        const docLinkHtml = 'Like what you see? Visit the ' +\n",
              "          '<a target=\"_blank\" href=https://colab.research.google.com/notebooks/data_table.ipynb>data table notebook</a>'\n",
              "          + ' to learn more about interactive tables.';\n",
              "        element.innerHTML = '';\n",
              "        dataTable['output_type'] = 'display_data';\n",
              "        await google.colab.output.renderOutput(dataTable, element);\n",
              "        const docLink = document.createElement('div');\n",
              "        docLink.innerHTML = docLinkHtml;\n",
              "        element.appendChild(docLink);\n",
              "      }\n",
              "    </script>\n",
              "  </div>\n",
              "\n",
              "\n",
              "<div id=\"df-fb023de0-0f5b-4f97-974e-1b77f99a6b55\">\n",
              "  <button class=\"colab-df-quickchart\" onclick=\"quickchart('df-fb023de0-0f5b-4f97-974e-1b77f99a6b55')\"\n",
              "            title=\"Suggest charts\"\n",
              "            style=\"display:none;\">\n",
              "\n",
              "<svg xmlns=\"http://www.w3.org/2000/svg\" height=\"24px\"viewBox=\"0 0 24 24\"\n",
              "     width=\"24px\">\n",
              "    <g>\n",
              "        <path d=\"M19 3H5c-1.1 0-2 .9-2 2v14c0 1.1.9 2 2 2h14c1.1 0 2-.9 2-2V5c0-1.1-.9-2-2-2zM9 17H7v-7h2v7zm4 0h-2V7h2v10zm4 0h-2v-4h2v4z\"/>\n",
              "    </g>\n",
              "</svg>\n",
              "  </button>\n",
              "\n",
              "<style>\n",
              "  .colab-df-quickchart {\n",
              "      --bg-color: #E8F0FE;\n",
              "      --fill-color: #1967D2;\n",
              "      --hover-bg-color: #E2EBFA;\n",
              "      --hover-fill-color: #174EA6;\n",
              "      --disabled-fill-color: #AAA;\n",
              "      --disabled-bg-color: #DDD;\n",
              "  }\n",
              "\n",
              "  [theme=dark] .colab-df-quickchart {\n",
              "      --bg-color: #3B4455;\n",
              "      --fill-color: #D2E3FC;\n",
              "      --hover-bg-color: #434B5C;\n",
              "      --hover-fill-color: #FFFFFF;\n",
              "      --disabled-bg-color: #3B4455;\n",
              "      --disabled-fill-color: #666;\n",
              "  }\n",
              "\n",
              "  .colab-df-quickchart {\n",
              "    background-color: var(--bg-color);\n",
              "    border: none;\n",
              "    border-radius: 50%;\n",
              "    cursor: pointer;\n",
              "    display: none;\n",
              "    fill: var(--fill-color);\n",
              "    height: 32px;\n",
              "    padding: 0;\n",
              "    width: 32px;\n",
              "  }\n",
              "\n",
              "  .colab-df-quickchart:hover {\n",
              "    background-color: var(--hover-bg-color);\n",
              "    box-shadow: 0 1px 2px rgba(60, 64, 67, 0.3), 0 1px 3px 1px rgba(60, 64, 67, 0.15);\n",
              "    fill: var(--button-hover-fill-color);\n",
              "  }\n",
              "\n",
              "  .colab-df-quickchart-complete:disabled,\n",
              "  .colab-df-quickchart-complete:disabled:hover {\n",
              "    background-color: var(--disabled-bg-color);\n",
              "    fill: var(--disabled-fill-color);\n",
              "    box-shadow: none;\n",
              "  }\n",
              "\n",
              "  .colab-df-spinner {\n",
              "    border: 2px solid var(--fill-color);\n",
              "    border-color: transparent;\n",
              "    border-bottom-color: var(--fill-color);\n",
              "    animation:\n",
              "      spin 1s steps(1) infinite;\n",
              "  }\n",
              "\n",
              "  @keyframes spin {\n",
              "    0% {\n",
              "      border-color: transparent;\n",
              "      border-bottom-color: var(--fill-color);\n",
              "      border-left-color: var(--fill-color);\n",
              "    }\n",
              "    20% {\n",
              "      border-color: transparent;\n",
              "      border-left-color: var(--fill-color);\n",
              "      border-top-color: var(--fill-color);\n",
              "    }\n",
              "    30% {\n",
              "      border-color: transparent;\n",
              "      border-left-color: var(--fill-color);\n",
              "      border-top-color: var(--fill-color);\n",
              "      border-right-color: var(--fill-color);\n",
              "    }\n",
              "    40% {\n",
              "      border-color: transparent;\n",
              "      border-right-color: var(--fill-color);\n",
              "      border-top-color: var(--fill-color);\n",
              "    }\n",
              "    60% {\n",
              "      border-color: transparent;\n",
              "      border-right-color: var(--fill-color);\n",
              "    }\n",
              "    80% {\n",
              "      border-color: transparent;\n",
              "      border-right-color: var(--fill-color);\n",
              "      border-bottom-color: var(--fill-color);\n",
              "    }\n",
              "    90% {\n",
              "      border-color: transparent;\n",
              "      border-bottom-color: var(--fill-color);\n",
              "    }\n",
              "  }\n",
              "</style>\n",
              "\n",
              "  <script>\n",
              "    async function quickchart(key) {\n",
              "      const quickchartButtonEl =\n",
              "        document.querySelector('#' + key + ' button');\n",
              "      quickchartButtonEl.disabled = true;  // To prevent multiple clicks.\n",
              "      quickchartButtonEl.classList.add('colab-df-spinner');\n",
              "      try {\n",
              "        const charts = await google.colab.kernel.invokeFunction(\n",
              "            'suggestCharts', [key], {});\n",
              "      } catch (error) {\n",
              "        console.error('Error during call to suggestCharts:', error);\n",
              "      }\n",
              "      quickchartButtonEl.classList.remove('colab-df-spinner');\n",
              "      quickchartButtonEl.classList.add('colab-df-quickchart-complete');\n",
              "    }\n",
              "    (() => {\n",
              "      let quickchartButtonEl =\n",
              "        document.querySelector('#df-fb023de0-0f5b-4f97-974e-1b77f99a6b55 button');\n",
              "      quickchartButtonEl.style.display =\n",
              "        google.colab.kernel.accessAllowed ? 'block' : 'none';\n",
              "    })();\n",
              "  </script>\n",
              "</div>\n",
              "\n",
              "    </div>\n",
              "  </div>\n"
            ],
            "text/plain": [
              "   Time        V1        V2        V3        V4        V5        V6        V7  \\\n",
              "0   0.0 -1.359807 -0.072781  2.536347  1.378155 -0.338321  0.462388  0.239599   \n",
              "1   0.0  1.191857  0.266151  0.166480  0.448154  0.060018 -0.082361 -0.078803   \n",
              "2   1.0 -1.358354 -1.340163  1.773209  0.379780 -0.503198  1.800499  0.791461   \n",
              "3   1.0 -0.966272 -0.185226  1.792993 -0.863291 -0.010309  1.247203  0.237609   \n",
              "4   2.0 -1.158233  0.877737  1.548718  0.403034 -0.407193  0.095921  0.592941   \n",
              "\n",
              "         V8        V9  ...       V21       V22       V23       V24       V25  \\\n",
              "0  0.098698  0.363787  ... -0.018307  0.277838 -0.110474  0.066928  0.128539   \n",
              "1  0.085102 -0.255425  ... -0.225775 -0.638672  0.101288 -0.339846  0.167170   \n",
              "2  0.247676 -1.514654  ...  0.247998  0.771679  0.909412 -0.689281 -0.327642   \n",
              "3  0.377436 -1.387024  ... -0.108300  0.005274 -0.190321 -1.175575  0.647376   \n",
              "4 -0.270533  0.817739  ... -0.009431  0.798278 -0.137458  0.141267 -0.206010   \n",
              "\n",
              "        V26       V27       V28  Amount  Class  \n",
              "0 -0.189115  0.133558 -0.021053  149.62      0  \n",
              "1  0.125895 -0.008983  0.014724    2.69      0  \n",
              "2 -0.139097 -0.055353 -0.059752  378.66      0  \n",
              "3 -0.221929  0.062723  0.061458  123.50      0  \n",
              "4  0.502292  0.219422  0.215153   69.99      0  \n",
              "\n",
              "[5 rows x 31 columns]"
            ]
          },
          "execution_count": 6,
          "metadata": {},
          "output_type": "execute_result"
        }
      ],
      "source": [
        "df.head()"
      ]
    },
    {
      "cell_type": "code",
      "execution_count": null,
      "metadata": {
        "colab": {
          "base_uri": "https://localhost:8080/",
          "height": 349
        },
        "id": "PpylrBk94HAG",
        "outputId": "dacc26bf-8c4d-4667-ba26-35d77ab79ff1"
      },
      "outputs": [
        {
          "data": {
            "application/vnd.google.colaboratory.intrinsic+json": {
              "type": "dataframe"
            },
            "text/html": [
              "\n",
              "  <div id=\"df-e26a8ba5-362e-4621-af8e-91c6a83432a9\" class=\"colab-df-container\">\n",
              "    <div>\n",
              "<style scoped>\n",
              "    .dataframe tbody tr th:only-of-type {\n",
              "        vertical-align: middle;\n",
              "    }\n",
              "\n",
              "    .dataframe tbody tr th {\n",
              "        vertical-align: top;\n",
              "    }\n",
              "\n",
              "    .dataframe thead th {\n",
              "        text-align: right;\n",
              "    }\n",
              "</style>\n",
              "<table border=\"1\" class=\"dataframe\">\n",
              "  <thead>\n",
              "    <tr style=\"text-align: right;\">\n",
              "      <th></th>\n",
              "      <th>Time</th>\n",
              "      <th>V1</th>\n",
              "      <th>V2</th>\n",
              "      <th>V3</th>\n",
              "      <th>V4</th>\n",
              "      <th>V5</th>\n",
              "      <th>V6</th>\n",
              "      <th>V7</th>\n",
              "      <th>V8</th>\n",
              "      <th>V9</th>\n",
              "      <th>...</th>\n",
              "      <th>V21</th>\n",
              "      <th>V22</th>\n",
              "      <th>V23</th>\n",
              "      <th>V24</th>\n",
              "      <th>V25</th>\n",
              "      <th>V26</th>\n",
              "      <th>V27</th>\n",
              "      <th>V28</th>\n",
              "      <th>Amount</th>\n",
              "      <th>Class</th>\n",
              "    </tr>\n",
              "  </thead>\n",
              "  <tbody>\n",
              "    <tr>\n",
              "      <th>count</th>\n",
              "      <td>284807.000000</td>\n",
              "      <td>2.848070e+05</td>\n",
              "      <td>2.848070e+05</td>\n",
              "      <td>2.848070e+05</td>\n",
              "      <td>2.848070e+05</td>\n",
              "      <td>2.848070e+05</td>\n",
              "      <td>2.848070e+05</td>\n",
              "      <td>2.848070e+05</td>\n",
              "      <td>2.848070e+05</td>\n",
              "      <td>2.848070e+05</td>\n",
              "      <td>...</td>\n",
              "      <td>2.848070e+05</td>\n",
              "      <td>2.848070e+05</td>\n",
              "      <td>2.848070e+05</td>\n",
              "      <td>2.848070e+05</td>\n",
              "      <td>2.848070e+05</td>\n",
              "      <td>2.848070e+05</td>\n",
              "      <td>2.848070e+05</td>\n",
              "      <td>2.848070e+05</td>\n",
              "      <td>284807.000000</td>\n",
              "      <td>284807.000000</td>\n",
              "    </tr>\n",
              "    <tr>\n",
              "      <th>mean</th>\n",
              "      <td>94813.859575</td>\n",
              "      <td>1.168375e-15</td>\n",
              "      <td>3.416908e-16</td>\n",
              "      <td>-1.379537e-15</td>\n",
              "      <td>2.074095e-15</td>\n",
              "      <td>9.604066e-16</td>\n",
              "      <td>1.487313e-15</td>\n",
              "      <td>-5.556467e-16</td>\n",
              "      <td>1.213481e-16</td>\n",
              "      <td>-2.406331e-15</td>\n",
              "      <td>...</td>\n",
              "      <td>1.654067e-16</td>\n",
              "      <td>-3.568593e-16</td>\n",
              "      <td>2.578648e-16</td>\n",
              "      <td>4.473266e-15</td>\n",
              "      <td>5.340915e-16</td>\n",
              "      <td>1.683437e-15</td>\n",
              "      <td>-3.660091e-16</td>\n",
              "      <td>-1.227390e-16</td>\n",
              "      <td>88.349619</td>\n",
              "      <td>0.001727</td>\n",
              "    </tr>\n",
              "    <tr>\n",
              "      <th>std</th>\n",
              "      <td>47488.145955</td>\n",
              "      <td>1.958696e+00</td>\n",
              "      <td>1.651309e+00</td>\n",
              "      <td>1.516255e+00</td>\n",
              "      <td>1.415869e+00</td>\n",
              "      <td>1.380247e+00</td>\n",
              "      <td>1.332271e+00</td>\n",
              "      <td>1.237094e+00</td>\n",
              "      <td>1.194353e+00</td>\n",
              "      <td>1.098632e+00</td>\n",
              "      <td>...</td>\n",
              "      <td>7.345240e-01</td>\n",
              "      <td>7.257016e-01</td>\n",
              "      <td>6.244603e-01</td>\n",
              "      <td>6.056471e-01</td>\n",
              "      <td>5.212781e-01</td>\n",
              "      <td>4.822270e-01</td>\n",
              "      <td>4.036325e-01</td>\n",
              "      <td>3.300833e-01</td>\n",
              "      <td>250.120109</td>\n",
              "      <td>0.041527</td>\n",
              "    </tr>\n",
              "    <tr>\n",
              "      <th>min</th>\n",
              "      <td>0.000000</td>\n",
              "      <td>-5.640751e+01</td>\n",
              "      <td>-7.271573e+01</td>\n",
              "      <td>-4.832559e+01</td>\n",
              "      <td>-5.683171e+00</td>\n",
              "      <td>-1.137433e+02</td>\n",
              "      <td>-2.616051e+01</td>\n",
              "      <td>-4.355724e+01</td>\n",
              "      <td>-7.321672e+01</td>\n",
              "      <td>-1.343407e+01</td>\n",
              "      <td>...</td>\n",
              "      <td>-3.483038e+01</td>\n",
              "      <td>-1.093314e+01</td>\n",
              "      <td>-4.480774e+01</td>\n",
              "      <td>-2.836627e+00</td>\n",
              "      <td>-1.029540e+01</td>\n",
              "      <td>-2.604551e+00</td>\n",
              "      <td>-2.256568e+01</td>\n",
              "      <td>-1.543008e+01</td>\n",
              "      <td>0.000000</td>\n",
              "      <td>0.000000</td>\n",
              "    </tr>\n",
              "    <tr>\n",
              "      <th>25%</th>\n",
              "      <td>54201.500000</td>\n",
              "      <td>-9.203734e-01</td>\n",
              "      <td>-5.985499e-01</td>\n",
              "      <td>-8.903648e-01</td>\n",
              "      <td>-8.486401e-01</td>\n",
              "      <td>-6.915971e-01</td>\n",
              "      <td>-7.682956e-01</td>\n",
              "      <td>-5.540759e-01</td>\n",
              "      <td>-2.086297e-01</td>\n",
              "      <td>-6.430976e-01</td>\n",
              "      <td>...</td>\n",
              "      <td>-2.283949e-01</td>\n",
              "      <td>-5.423504e-01</td>\n",
              "      <td>-1.618463e-01</td>\n",
              "      <td>-3.545861e-01</td>\n",
              "      <td>-3.171451e-01</td>\n",
              "      <td>-3.269839e-01</td>\n",
              "      <td>-7.083953e-02</td>\n",
              "      <td>-5.295979e-02</td>\n",
              "      <td>5.600000</td>\n",
              "      <td>0.000000</td>\n",
              "    </tr>\n",
              "    <tr>\n",
              "      <th>50%</th>\n",
              "      <td>84692.000000</td>\n",
              "      <td>1.810880e-02</td>\n",
              "      <td>6.548556e-02</td>\n",
              "      <td>1.798463e-01</td>\n",
              "      <td>-1.984653e-02</td>\n",
              "      <td>-5.433583e-02</td>\n",
              "      <td>-2.741871e-01</td>\n",
              "      <td>4.010308e-02</td>\n",
              "      <td>2.235804e-02</td>\n",
              "      <td>-5.142873e-02</td>\n",
              "      <td>...</td>\n",
              "      <td>-2.945017e-02</td>\n",
              "      <td>6.781943e-03</td>\n",
              "      <td>-1.119293e-02</td>\n",
              "      <td>4.097606e-02</td>\n",
              "      <td>1.659350e-02</td>\n",
              "      <td>-5.213911e-02</td>\n",
              "      <td>1.342146e-03</td>\n",
              "      <td>1.124383e-02</td>\n",
              "      <td>22.000000</td>\n",
              "      <td>0.000000</td>\n",
              "    </tr>\n",
              "    <tr>\n",
              "      <th>75%</th>\n",
              "      <td>139320.500000</td>\n",
              "      <td>1.315642e+00</td>\n",
              "      <td>8.037239e-01</td>\n",
              "      <td>1.027196e+00</td>\n",
              "      <td>7.433413e-01</td>\n",
              "      <td>6.119264e-01</td>\n",
              "      <td>3.985649e-01</td>\n",
              "      <td>5.704361e-01</td>\n",
              "      <td>3.273459e-01</td>\n",
              "      <td>5.971390e-01</td>\n",
              "      <td>...</td>\n",
              "      <td>1.863772e-01</td>\n",
              "      <td>5.285536e-01</td>\n",
              "      <td>1.476421e-01</td>\n",
              "      <td>4.395266e-01</td>\n",
              "      <td>3.507156e-01</td>\n",
              "      <td>2.409522e-01</td>\n",
              "      <td>9.104512e-02</td>\n",
              "      <td>7.827995e-02</td>\n",
              "      <td>77.165000</td>\n",
              "      <td>0.000000</td>\n",
              "    </tr>\n",
              "    <tr>\n",
              "      <th>max</th>\n",
              "      <td>172792.000000</td>\n",
              "      <td>2.454930e+00</td>\n",
              "      <td>2.205773e+01</td>\n",
              "      <td>9.382558e+00</td>\n",
              "      <td>1.687534e+01</td>\n",
              "      <td>3.480167e+01</td>\n",
              "      <td>7.330163e+01</td>\n",
              "      <td>1.205895e+02</td>\n",
              "      <td>2.000721e+01</td>\n",
              "      <td>1.559499e+01</td>\n",
              "      <td>...</td>\n",
              "      <td>2.720284e+01</td>\n",
              "      <td>1.050309e+01</td>\n",
              "      <td>2.252841e+01</td>\n",
              "      <td>4.584549e+00</td>\n",
              "      <td>7.519589e+00</td>\n",
              "      <td>3.517346e+00</td>\n",
              "      <td>3.161220e+01</td>\n",
              "      <td>3.384781e+01</td>\n",
              "      <td>25691.160000</td>\n",
              "      <td>1.000000</td>\n",
              "    </tr>\n",
              "  </tbody>\n",
              "</table>\n",
              "<p>8 rows × 31 columns</p>\n",
              "</div>\n",
              "    <div class=\"colab-df-buttons\">\n",
              "\n",
              "  <div class=\"colab-df-container\">\n",
              "    <button class=\"colab-df-convert\" onclick=\"convertToInteractive('df-e26a8ba5-362e-4621-af8e-91c6a83432a9')\"\n",
              "            title=\"Convert this dataframe to an interactive table.\"\n",
              "            style=\"display:none;\">\n",
              "\n",
              "  <svg xmlns=\"http://www.w3.org/2000/svg\" height=\"24px\" viewBox=\"0 -960 960 960\">\n",
              "    <path d=\"M120-120v-720h720v720H120Zm60-500h600v-160H180v160Zm220 220h160v-160H400v160Zm0 220h160v-160H400v160ZM180-400h160v-160H180v160Zm440 0h160v-160H620v160ZM180-180h160v-160H180v160Zm440 0h160v-160H620v160Z\"/>\n",
              "  </svg>\n",
              "    </button>\n",
              "\n",
              "  <style>\n",
              "    .colab-df-container {\n",
              "      display:flex;\n",
              "      gap: 12px;\n",
              "    }\n",
              "\n",
              "    .colab-df-convert {\n",
              "      background-color: #E8F0FE;\n",
              "      border: none;\n",
              "      border-radius: 50%;\n",
              "      cursor: pointer;\n",
              "      display: none;\n",
              "      fill: #1967D2;\n",
              "      height: 32px;\n",
              "      padding: 0 0 0 0;\n",
              "      width: 32px;\n",
              "    }\n",
              "\n",
              "    .colab-df-convert:hover {\n",
              "      background-color: #E2EBFA;\n",
              "      box-shadow: 0px 1px 2px rgba(60, 64, 67, 0.3), 0px 1px 3px 1px rgba(60, 64, 67, 0.15);\n",
              "      fill: #174EA6;\n",
              "    }\n",
              "\n",
              "    .colab-df-buttons div {\n",
              "      margin-bottom: 4px;\n",
              "    }\n",
              "\n",
              "    [theme=dark] .colab-df-convert {\n",
              "      background-color: #3B4455;\n",
              "      fill: #D2E3FC;\n",
              "    }\n",
              "\n",
              "    [theme=dark] .colab-df-convert:hover {\n",
              "      background-color: #434B5C;\n",
              "      box-shadow: 0px 1px 3px 1px rgba(0, 0, 0, 0.15);\n",
              "      filter: drop-shadow(0px 1px 2px rgba(0, 0, 0, 0.3));\n",
              "      fill: #FFFFFF;\n",
              "    }\n",
              "  </style>\n",
              "\n",
              "    <script>\n",
              "      const buttonEl =\n",
              "        document.querySelector('#df-e26a8ba5-362e-4621-af8e-91c6a83432a9 button.colab-df-convert');\n",
              "      buttonEl.style.display =\n",
              "        google.colab.kernel.accessAllowed ? 'block' : 'none';\n",
              "\n",
              "      async function convertToInteractive(key) {\n",
              "        const element = document.querySelector('#df-e26a8ba5-362e-4621-af8e-91c6a83432a9');\n",
              "        const dataTable =\n",
              "          await google.colab.kernel.invokeFunction('convertToInteractive',\n",
              "                                                    [key], {});\n",
              "        if (!dataTable) return;\n",
              "\n",
              "        const docLinkHtml = 'Like what you see? Visit the ' +\n",
              "          '<a target=\"_blank\" href=https://colab.research.google.com/notebooks/data_table.ipynb>data table notebook</a>'\n",
              "          + ' to learn more about interactive tables.';\n",
              "        element.innerHTML = '';\n",
              "        dataTable['output_type'] = 'display_data';\n",
              "        await google.colab.output.renderOutput(dataTable, element);\n",
              "        const docLink = document.createElement('div');\n",
              "        docLink.innerHTML = docLinkHtml;\n",
              "        element.appendChild(docLink);\n",
              "      }\n",
              "    </script>\n",
              "  </div>\n",
              "\n",
              "\n",
              "<div id=\"df-ad3a72da-3852-46cc-8ac7-687e3dcf149a\">\n",
              "  <button class=\"colab-df-quickchart\" onclick=\"quickchart('df-ad3a72da-3852-46cc-8ac7-687e3dcf149a')\"\n",
              "            title=\"Suggest charts\"\n",
              "            style=\"display:none;\">\n",
              "\n",
              "<svg xmlns=\"http://www.w3.org/2000/svg\" height=\"24px\"viewBox=\"0 0 24 24\"\n",
              "     width=\"24px\">\n",
              "    <g>\n",
              "        <path d=\"M19 3H5c-1.1 0-2 .9-2 2v14c0 1.1.9 2 2 2h14c1.1 0 2-.9 2-2V5c0-1.1-.9-2-2-2zM9 17H7v-7h2v7zm4 0h-2V7h2v10zm4 0h-2v-4h2v4z\"/>\n",
              "    </g>\n",
              "</svg>\n",
              "  </button>\n",
              "\n",
              "<style>\n",
              "  .colab-df-quickchart {\n",
              "      --bg-color: #E8F0FE;\n",
              "      --fill-color: #1967D2;\n",
              "      --hover-bg-color: #E2EBFA;\n",
              "      --hover-fill-color: #174EA6;\n",
              "      --disabled-fill-color: #AAA;\n",
              "      --disabled-bg-color: #DDD;\n",
              "  }\n",
              "\n",
              "  [theme=dark] .colab-df-quickchart {\n",
              "      --bg-color: #3B4455;\n",
              "      --fill-color: #D2E3FC;\n",
              "      --hover-bg-color: #434B5C;\n",
              "      --hover-fill-color: #FFFFFF;\n",
              "      --disabled-bg-color: #3B4455;\n",
              "      --disabled-fill-color: #666;\n",
              "  }\n",
              "\n",
              "  .colab-df-quickchart {\n",
              "    background-color: var(--bg-color);\n",
              "    border: none;\n",
              "    border-radius: 50%;\n",
              "    cursor: pointer;\n",
              "    display: none;\n",
              "    fill: var(--fill-color);\n",
              "    height: 32px;\n",
              "    padding: 0;\n",
              "    width: 32px;\n",
              "  }\n",
              "\n",
              "  .colab-df-quickchart:hover {\n",
              "    background-color: var(--hover-bg-color);\n",
              "    box-shadow: 0 1px 2px rgba(60, 64, 67, 0.3), 0 1px 3px 1px rgba(60, 64, 67, 0.15);\n",
              "    fill: var(--button-hover-fill-color);\n",
              "  }\n",
              "\n",
              "  .colab-df-quickchart-complete:disabled,\n",
              "  .colab-df-quickchart-complete:disabled:hover {\n",
              "    background-color: var(--disabled-bg-color);\n",
              "    fill: var(--disabled-fill-color);\n",
              "    box-shadow: none;\n",
              "  }\n",
              "\n",
              "  .colab-df-spinner {\n",
              "    border: 2px solid var(--fill-color);\n",
              "    border-color: transparent;\n",
              "    border-bottom-color: var(--fill-color);\n",
              "    animation:\n",
              "      spin 1s steps(1) infinite;\n",
              "  }\n",
              "\n",
              "  @keyframes spin {\n",
              "    0% {\n",
              "      border-color: transparent;\n",
              "      border-bottom-color: var(--fill-color);\n",
              "      border-left-color: var(--fill-color);\n",
              "    }\n",
              "    20% {\n",
              "      border-color: transparent;\n",
              "      border-left-color: var(--fill-color);\n",
              "      border-top-color: var(--fill-color);\n",
              "    }\n",
              "    30% {\n",
              "      border-color: transparent;\n",
              "      border-left-color: var(--fill-color);\n",
              "      border-top-color: var(--fill-color);\n",
              "      border-right-color: var(--fill-color);\n",
              "    }\n",
              "    40% {\n",
              "      border-color: transparent;\n",
              "      border-right-color: var(--fill-color);\n",
              "      border-top-color: var(--fill-color);\n",
              "    }\n",
              "    60% {\n",
              "      border-color: transparent;\n",
              "      border-right-color: var(--fill-color);\n",
              "    }\n",
              "    80% {\n",
              "      border-color: transparent;\n",
              "      border-right-color: var(--fill-color);\n",
              "      border-bottom-color: var(--fill-color);\n",
              "    }\n",
              "    90% {\n",
              "      border-color: transparent;\n",
              "      border-bottom-color: var(--fill-color);\n",
              "    }\n",
              "  }\n",
              "</style>\n",
              "\n",
              "  <script>\n",
              "    async function quickchart(key) {\n",
              "      const quickchartButtonEl =\n",
              "        document.querySelector('#' + key + ' button');\n",
              "      quickchartButtonEl.disabled = true;  // To prevent multiple clicks.\n",
              "      quickchartButtonEl.classList.add('colab-df-spinner');\n",
              "      try {\n",
              "        const charts = await google.colab.kernel.invokeFunction(\n",
              "            'suggestCharts', [key], {});\n",
              "      } catch (error) {\n",
              "        console.error('Error during call to suggestCharts:', error);\n",
              "      }\n",
              "      quickchartButtonEl.classList.remove('colab-df-spinner');\n",
              "      quickchartButtonEl.classList.add('colab-df-quickchart-complete');\n",
              "    }\n",
              "    (() => {\n",
              "      let quickchartButtonEl =\n",
              "        document.querySelector('#df-ad3a72da-3852-46cc-8ac7-687e3dcf149a button');\n",
              "      quickchartButtonEl.style.display =\n",
              "        google.colab.kernel.accessAllowed ? 'block' : 'none';\n",
              "    })();\n",
              "  </script>\n",
              "</div>\n",
              "\n",
              "    </div>\n",
              "  </div>\n"
            ],
            "text/plain": [
              "                Time            V1            V2            V3            V4  \\\n",
              "count  284807.000000  2.848070e+05  2.848070e+05  2.848070e+05  2.848070e+05   \n",
              "mean    94813.859575  1.168375e-15  3.416908e-16 -1.379537e-15  2.074095e-15   \n",
              "std     47488.145955  1.958696e+00  1.651309e+00  1.516255e+00  1.415869e+00   \n",
              "min         0.000000 -5.640751e+01 -7.271573e+01 -4.832559e+01 -5.683171e+00   \n",
              "25%     54201.500000 -9.203734e-01 -5.985499e-01 -8.903648e-01 -8.486401e-01   \n",
              "50%     84692.000000  1.810880e-02  6.548556e-02  1.798463e-01 -1.984653e-02   \n",
              "75%    139320.500000  1.315642e+00  8.037239e-01  1.027196e+00  7.433413e-01   \n",
              "max    172792.000000  2.454930e+00  2.205773e+01  9.382558e+00  1.687534e+01   \n",
              "\n",
              "                 V5            V6            V7            V8            V9  \\\n",
              "count  2.848070e+05  2.848070e+05  2.848070e+05  2.848070e+05  2.848070e+05   \n",
              "mean   9.604066e-16  1.487313e-15 -5.556467e-16  1.213481e-16 -2.406331e-15   \n",
              "std    1.380247e+00  1.332271e+00  1.237094e+00  1.194353e+00  1.098632e+00   \n",
              "min   -1.137433e+02 -2.616051e+01 -4.355724e+01 -7.321672e+01 -1.343407e+01   \n",
              "25%   -6.915971e-01 -7.682956e-01 -5.540759e-01 -2.086297e-01 -6.430976e-01   \n",
              "50%   -5.433583e-02 -2.741871e-01  4.010308e-02  2.235804e-02 -5.142873e-02   \n",
              "75%    6.119264e-01  3.985649e-01  5.704361e-01  3.273459e-01  5.971390e-01   \n",
              "max    3.480167e+01  7.330163e+01  1.205895e+02  2.000721e+01  1.559499e+01   \n",
              "\n",
              "       ...           V21           V22           V23           V24  \\\n",
              "count  ...  2.848070e+05  2.848070e+05  2.848070e+05  2.848070e+05   \n",
              "mean   ...  1.654067e-16 -3.568593e-16  2.578648e-16  4.473266e-15   \n",
              "std    ...  7.345240e-01  7.257016e-01  6.244603e-01  6.056471e-01   \n",
              "min    ... -3.483038e+01 -1.093314e+01 -4.480774e+01 -2.836627e+00   \n",
              "25%    ... -2.283949e-01 -5.423504e-01 -1.618463e-01 -3.545861e-01   \n",
              "50%    ... -2.945017e-02  6.781943e-03 -1.119293e-02  4.097606e-02   \n",
              "75%    ...  1.863772e-01  5.285536e-01  1.476421e-01  4.395266e-01   \n",
              "max    ...  2.720284e+01  1.050309e+01  2.252841e+01  4.584549e+00   \n",
              "\n",
              "                V25           V26           V27           V28         Amount  \\\n",
              "count  2.848070e+05  2.848070e+05  2.848070e+05  2.848070e+05  284807.000000   \n",
              "mean   5.340915e-16  1.683437e-15 -3.660091e-16 -1.227390e-16      88.349619   \n",
              "std    5.212781e-01  4.822270e-01  4.036325e-01  3.300833e-01     250.120109   \n",
              "min   -1.029540e+01 -2.604551e+00 -2.256568e+01 -1.543008e+01       0.000000   \n",
              "25%   -3.171451e-01 -3.269839e-01 -7.083953e-02 -5.295979e-02       5.600000   \n",
              "50%    1.659350e-02 -5.213911e-02  1.342146e-03  1.124383e-02      22.000000   \n",
              "75%    3.507156e-01  2.409522e-01  9.104512e-02  7.827995e-02      77.165000   \n",
              "max    7.519589e+00  3.517346e+00  3.161220e+01  3.384781e+01   25691.160000   \n",
              "\n",
              "               Class  \n",
              "count  284807.000000  \n",
              "mean        0.001727  \n",
              "std         0.041527  \n",
              "min         0.000000  \n",
              "25%         0.000000  \n",
              "50%         0.000000  \n",
              "75%         0.000000  \n",
              "max         1.000000  \n",
              "\n",
              "[8 rows x 31 columns]"
            ]
          },
          "execution_count": 8,
          "metadata": {},
          "output_type": "execute_result"
        }
      ],
      "source": [
        "df.describe()"
      ]
    },
    {
      "cell_type": "code",
      "execution_count": null,
      "metadata": {
        "colab": {
          "base_uri": "https://localhost:8080/",
          "height": 449
        },
        "id": "3KtdyhRZ4HR9",
        "outputId": "7b833e38-d0b7-4015-bbf6-e89050fc896b"
      },
      "outputs": [
        {
          "data": {
            "image/png": "[encoded data removed]",
            "text/plain": [
              "<Figure size 640x480 with 1 Axes>"
            ]
          },
          "metadata": {},
          "output_type": "display_data"
        }
      ],
      "source": [
        "ax = sns.countplot(x='Class', data=df)\n",
        "for i in ax.containers:\n",
        "    ax.bar_label(i,)\n",
        "plt.show()"
      ]
    },
    {
      "cell_type": "code",
      "execution_count": null,
      "metadata": {
        "colab": {
          "base_uri": "https://localhost:8080/"
        },
        "id": "kRyu6pP64JRi",
        "outputId": "7cc044ed-cdbe-463f-a189-82117923631e"
      },
      "outputs": [
        {
          "name": "stdout",
          "output_type": "stream",
          "text": [
            "The percentage of Non-fraud class is 99.83 %\n",
            "The percentage of Fraud class is 0.17 %\n"
          ]
        }
      ],
      "source": [
        "print(\"The percentage of Non-fraud class is\", round((df['Class'].value_counts()[0]/len(df)) * 100,2),\"%\")\n",
        "print(\"The percentage of Fraud class is\", round((df['Class'].value_counts()[1]/len(df))*100,2),\"%\")"
      ]
    },
    {
      "cell_type": "code",
      "execution_count": null,
      "metadata": {
        "colab": {
          "base_uri": "https://localhost:8080/",
          "height": 406
        },
        "id": "j3VYhzvV4LiG",
        "outputId": "e52c10cc-471c-4709-fba2-ae87fb2b8d22"
      },
      "outputs": [
        {
          "data": {
            "image/png": "[encoded data removed]",
            "text/plain": [
              "<Figure size 640x480 with 1 Axes>"
            ]
          },
          "metadata": {},
          "output_type": "display_data"
        }
      ],
      "source": [
        "plt.pie(df['Class'].value_counts(), labels=['Non-Fraud', 'Fraud'], autopct='%1.2f%%')\n",
        "plt.show()"
      ]
    },
    {
      "cell_type": "code",
      "execution_count": null,
      "metadata": {
        "colab": {
          "base_uri": "https://localhost:8080/",
          "height": 1000
        },
        "collapsed": true,
        "id": "ExRZgsJ04NO1",
        "outputId": "8829e9f4-91a8-4a3a-8be0-7703e2bfb821"
      },
      "outputs": [
        {
          "data": {
            "text/html": [
              "<div>\n",
              "<style scoped>\n",
              "    .dataframe tbody tr th:only-of-type {\n",
              "        vertical-align: middle;\n",
              "    }\n",
              "\n",
              "    .dataframe tbody tr th {\n",
              "        vertical-align: top;\n",
              "    }\n",
              "\n",
              "    .dataframe thead th {\n",
              "        text-align: right;\n",
              "    }\n",
              "</style>\n",
              "<table border=\"1\" class=\"dataframe\">\n",
              "  <thead>\n",
              "    <tr style=\"text-align: right;\">\n",
              "      <th></th>\n",
              "      <th>0</th>\n",
              "    </tr>\n",
              "  </thead>\n",
              "  <tbody>\n",
              "    <tr>\n",
              "      <th>Time</th>\n",
              "      <td>0</td>\n",
              "    </tr>\n",
              "    <tr>\n",
              "      <th>V1</th>\n",
              "      <td>0</td>\n",
              "    </tr>\n",
              "    <tr>\n",
              "      <th>V2</th>\n",
              "      <td>0</td>\n",
              "    </tr>\n",
              "    <tr>\n",
              "      <th>V3</th>\n",
              "      <td>0</td>\n",
              "    </tr>\n",
              "    <tr>\n",
              "      <th>V4</th>\n",
              "      <td>0</td>\n",
              "    </tr>\n",
              "    <tr>\n",
              "      <th>V5</th>\n",
              "      <td>0</td>\n",
              "    </tr>\n",
              "    <tr>\n",
              "      <th>V6</th>\n",
              "      <td>0</td>\n",
              "    </tr>\n",
              "    <tr>\n",
              "      <th>V7</th>\n",
              "      <td>0</td>\n",
              "    </tr>\n",
              "    <tr>\n",
              "      <th>V8</th>\n",
              "      <td>0</td>\n",
              "    </tr>\n",
              "    <tr>\n",
              "      <th>V9</th>\n",
              "      <td>0</td>\n",
              "    </tr>\n",
              "    <tr>\n",
              "      <th>V10</th>\n",
              "      <td>0</td>\n",
              "    </tr>\n",
              "    <tr>\n",
              "      <th>V11</th>\n",
              "      <td>0</td>\n",
              "    </tr>\n",
              "    <tr>\n",
              "      <th>V12</th>\n",
              "      <td>0</td>\n",
              "    </tr>\n",
              "    <tr>\n",
              "      <th>V13</th>\n",
              "      <td>0</td>\n",
              "    </tr>\n",
              "    <tr>\n",
              "      <th>V14</th>\n",
              "      <td>0</td>\n",
              "    </tr>\n",
              "    <tr>\n",
              "      <th>V15</th>\n",
              "      <td>0</td>\n",
              "    </tr>\n",
              "    <tr>\n",
              "      <th>V16</th>\n",
              "      <td>0</td>\n",
              "    </tr>\n",
              "    <tr>\n",
              "      <th>V17</th>\n",
              "      <td>0</td>\n",
              "    </tr>\n",
              "    <tr>\n",
              "      <th>V18</th>\n",
              "      <td>0</td>\n",
              "    </tr>\n",
              "    <tr>\n",
              "      <th>V19</th>\n",
              "      <td>0</td>\n",
              "    </tr>\n",
              "    <tr>\n",
              "      <th>V20</th>\n",
              "      <td>0</td>\n",
              "    </tr>\n",
              "    <tr>\n",
              "      <th>V21</th>\n",
              "      <td>0</td>\n",
              "    </tr>\n",
              "    <tr>\n",
              "      <th>V22</th>\n",
              "      <td>0</td>\n",
              "    </tr>\n",
              "    <tr>\n",
              "      <th>V23</th>\n",
              "      <td>0</td>\n",
              "    </tr>\n",
              "    <tr>\n",
              "      <th>V24</th>\n",
              "      <td>0</td>\n",
              "    </tr>\n",
              "    <tr>\n",
              "      <th>V25</th>\n",
              "      <td>0</td>\n",
              "    </tr>\n",
              "    <tr>\n",
              "      <th>V26</th>\n",
              "      <td>0</td>\n",
              "    </tr>\n",
              "    <tr>\n",
              "      <th>V27</th>\n",
              "      <td>0</td>\n",
              "    </tr>\n",
              "    <tr>\n",
              "      <th>V28</th>\n",
              "      <td>0</td>\n",
              "    </tr>\n",
              "    <tr>\n",
              "      <th>Amount</th>\n",
              "      <td>0</td>\n",
              "    </tr>\n",
              "    <tr>\n",
              "      <th>Class</th>\n",
              "      <td>0</td>\n",
              "    </tr>\n",
              "  </tbody>\n",
              "</table>\n",
              "</div><br><label><b>dtype:</b> int64</label>"
            ],
            "text/plain": [
              "Time      0\n",
              "V1        0\n",
              "V2        0\n",
              "V3        0\n",
              "V4        0\n",
              "V5        0\n",
              "V6        0\n",
              "V7        0\n",
              "V8        0\n",
              "V9        0\n",
              "V10       0\n",
              "V11       0\n",
              "V12       0\n",
              "V13       0\n",
              "V14       0\n",
              "V15       0\n",
              "V16       0\n",
              "V17       0\n",
              "V18       0\n",
              "V19       0\n",
              "V20       0\n",
              "V21       0\n",
              "V22       0\n",
              "V23       0\n",
              "V24       0\n",
              "V25       0\n",
              "V26       0\n",
              "V27       0\n",
              "V28       0\n",
              "Amount    0\n",
              "Class     0\n",
              "dtype: int64"
            ]
          },
          "execution_count": 12,
          "metadata": {},
          "output_type": "execute_result"
        }
      ],
      "source": [
        "df.isnull().sum()"
      ]
    },
    {
      "cell_type": "code",
      "execution_count": null,
      "metadata": {
        "colab": {
          "base_uri": "https://localhost:8080/"
        },
        "id": "Pwn4KhUL4PHt",
        "outputId": "aacc5f3b-599f-415e-d8d2-7175cbb08b45"
      },
      "outputs": [
        {
          "data": {
            "text/plain": [
              "1081"
            ]
          },
          "execution_count": 13,
          "metadata": {},
          "output_type": "execute_result"
        }
      ],
      "source": [
        "df.duplicated().sum()"
      ]
    },
    {
      "cell_type": "code",
      "execution_count": null,
      "metadata": {
        "colab": {
          "base_uri": "https://localhost:8080/"
        },
        "id": "L5i92-FK4Uo7",
        "outputId": "277ff1d8-8c1f-4515-cea9-ab95fb15df5e"
      },
      "outputs": [
        {
          "name": "stdout",
          "output_type": "stream",
          "text": [
            "492\n",
            "473\n"
          ]
        }
      ],
      "source": [
        "dupli_df = df.copy()\n",
        "dupli_df.drop_duplicates(inplace=True)\n",
        "print(len(df[df['Class'] == 1]))\n",
        "print(len(dupli_df[dupli_df['Class'] == 1]))"
      ]
    },
    {
      "cell_type": "code",
      "execution_count": null,
      "metadata": {
        "colab": {
          "base_uri": "https://localhost:8080/",
          "height": 1000
        },
        "id": "1pr7sEy_4WT9",
        "outputId": "db0f9882-979a-476c-f150-93fba152d754"
      },
      "outputs": [
        {
          "data": {
            "image/png": "[encoded data removed]",
            "text/plain": [
              "<Figure size 1000x2000 with 30 Axes>"
            ]
          },
          "metadata": {},
          "output_type": "display_data"
        }
      ],
      "source": [
        "numeric_columns = (list(df.loc[:, 'V1':'Amount']))\n",
        "\n",
        "def boxplots_custom(dataset, columns_list, rows, cols, suptitle):\n",
        "    fig, axs = plt.subplots(rows, cols, sharey=True, figsize=(10,20))\n",
        "    fig.suptitle(suptitle,y=1, size=25)\n",
        "    axs = axs.flatten()\n",
        "    for i, data in enumerate(columns_list):\n",
        "        sns.boxplot(data=dataset[data], orient='h', ax=axs[i])\n",
        "        axs[i].set_title(data + ', skewness is: '+str(round(dataset[data].skew(axis = 0, skipna = True),2)))\n",
        "\n",
        "boxplots_custom(dataset=df, columns_list=numeric_columns, rows=10, cols=3, suptitle='Boxplots for each variable')\n",
        "plt.tight_layout()"
      ]
    },
    {
      "cell_type": "code",
      "execution_count": null,
      "metadata": {
        "id": "mgIN5QXh4abW"
      },
      "outputs": [],
      "source": [
        "def find_outliers(df, col):\n",
        "    q1 = df[col].quantile(0.25)\n",
        "    q3 = df[col].quantile(0.75)\n",
        "    iqr = q3 - q1\n",
        "    outliers = df[(df[col] < q1 - 1.5 * iqr) | (df[col] > q3 + 1.5 * iqr)]\n",
        "    return outliers\n",
        "\n",
        "def drop_outliers(df, col):\n",
        "    q1 = df[col].quantile(0.25)\n",
        "    q3 = df[col].quantile(0.75)\n",
        "    iqr = q3 - q1\n",
        "    df = df[(df[col] >= q1 - 1.5 * iqr) & (df[col] <= q3 + 1.5 * iqr)]\n",
        "    return df\n",
        "\n",
        "outlier_df = df.copy()\n",
        "for col in numeric_columns:\n",
        "    outlier_df = drop_outliers(outlier_df, col)"
      ]
    },
    {
      "cell_type": "code",
      "execution_count": null,
      "metadata": {
        "colab": {
          "base_uri": "https://localhost:8080/"
        },
        "id": "05Ps8dow4dGo",
        "outputId": "5a4aaef4-792a-4ed7-804c-e7a8de4b247f"
      },
      "outputs": [
        {
          "name": "stdout",
          "output_type": "stream",
          "text": [
            "492\n",
            "13\n"
          ]
        }
      ],
      "source": [
        "print(df['Class'].value_counts()[1])\n",
        "print(outlier_df['Class'].value_counts()[1])"
      ]
    },
    {
      "cell_type": "markdown",
      "metadata": {
        "id": "gcWEo-bFcH2k"
      },
      "source": [
        "#Split and scale data"
      ]
    },
    {
      "cell_type": "code",
      "execution_count": null,
      "metadata": {
        "id": "rYXJ0YoQ4ezF"
      },
      "outputs": [],
      "source": [
        "from sklearn.model_selection import train_test_split\n",
        "from sklearn.preprocessing import StandardScaler,RobustScaler"
      ]
    },
    {
      "cell_type": "code",
      "execution_count": null,
      "metadata": {
        "id": "ifZV6AUz4hC6"
      },
      "outputs": [],
      "source": [
        "X = df.drop('Class', axis=1)\n",
        "y = df['Class']\n",
        "X_train, X_test, y_train, y_test = train_test_split(X, y, stratify=y, test_size = 0.3, random_state = 42)"
      ]
    },
    {
      "cell_type": "code",
      "execution_count": null,
      "metadata": {
        "id": "nLLknZmu4iPa"
      },
      "outputs": [],
      "source": [
        "standard_scaler = StandardScaler()\n",
        "robust_scaler = RobustScaler()\n",
        "X_train['Time'] = standard_scaler.fit_transform(X_train['Time'].values.reshape(-1,1))\n",
        "X_train['Amount'] = robust_scaler.fit_transform(X_train['Amount'].values.reshape(-1,1))\n",
        "\n",
        "X_test['Time'] = standard_scaler.transform(X_test['Time'].values.reshape(-1,1))\n",
        "X_test['Amount'] = robust_scaler.transform(X_test['Amount'].values.reshape(-1,1))"
      ]
    },
    {
      "cell_type": "code",
      "execution_count": null,
      "metadata": {
        "colab": {
          "base_uri": "https://localhost:8080/",
          "height": 300
        },
        "id": "iFGtnaOk4jix",
        "outputId": "a1ea096b-26af-469e-ac5d-dd30cef5f0c5"
      },
      "outputs": [
        {
          "output_type": "execute_result",
          "data": {
            "text/plain": [
              "                  V1            V21          Time         Amount\n",
              "count  199364.000000  199364.000000  1.993640e+05  199364.000000\n",
              "mean       -0.001137       0.000459 -1.055671e-16       0.924193\n",
              "std         1.965794       0.740233  1.000003e+00       3.523125\n",
              "min       -56.407510     -34.830382 -1.998286e+00      -0.306279\n",
              "25%        -0.919472      -0.228438 -8.558564e-01      -0.227342\n",
              "50%         0.017529      -0.029121 -2.116814e-01       0.000000\n",
              "75%         1.315404       0.186562  9.363437e-01       0.772658\n",
              "max         2.451888      27.202839  1.640221e+00     357.359877"
            ],
            "text/html": [
              "\n",
              "  <div id=\"df-04dd73b5-06ef-4b53-8357-f76e2b6977c8\" class=\"colab-df-container\">\n",
              "    <div>\n",
              "<style scoped>\n",
              "    .dataframe tbody tr th:only-of-type {\n",
              "        vertical-align: middle;\n",
              "    }\n",
              "\n",
              "    .dataframe tbody tr th {\n",
              "        vertical-align: top;\n",
              "    }\n",
              "\n",
              "    .dataframe thead th {\n",
              "        text-align: right;\n",
              "    }\n",
              "</style>\n",
              "<table border=\"1\" class=\"dataframe\">\n",
              "  <thead>\n",
              "    <tr style=\"text-align: right;\">\n",
              "      <th></th>\n",
              "      <th>V1</th>\n",
              "      <th>V21</th>\n",
              "      <th>Time</th>\n",
              "      <th>Amount</th>\n",
              "    </tr>\n",
              "  </thead>\n",
              "  <tbody>\n",
              "    <tr>\n",
              "      <th>count</th>\n",
              "      <td>199364.000000</td>\n",
              "      <td>199364.000000</td>\n",
              "      <td>1.993640e+05</td>\n",
              "      <td>199364.000000</td>\n",
              "    </tr>\n",
              "    <tr>\n",
              "      <th>mean</th>\n",
              "      <td>-0.001137</td>\n",
              "      <td>0.000459</td>\n",
              "      <td>-1.055671e-16</td>\n",
              "      <td>0.924193</td>\n",
              "    </tr>\n",
              "    <tr>\n",
              "      <th>std</th>\n",
              "      <td>1.965794</td>\n",
              "      <td>0.740233</td>\n",
              "      <td>1.000003e+00</td>\n",
              "      <td>3.523125</td>\n",
              "    </tr>\n",
              "    <tr>\n",
              "      <th>min</th>\n",
              "      <td>-56.407510</td>\n",
              "      <td>-34.830382</td>\n",
              "      <td>-1.998286e+00</td>\n",
              "      <td>-0.306279</td>\n",
              "    </tr>\n",
              "    <tr>\n",
              "      <th>25%</th>\n",
              "      <td>-0.919472</td>\n",
              "      <td>-0.228438</td>\n",
              "      <td>-8.558564e-01</td>\n",
              "      <td>-0.227342</td>\n",
              "    </tr>\n",
              "    <tr>\n",
              "      <th>50%</th>\n",
              "      <td>0.017529</td>\n",
              "      <td>-0.029121</td>\n",
              "      <td>-2.116814e-01</td>\n",
              "      <td>0.000000</td>\n",
              "    </tr>\n",
              "    <tr>\n",
              "      <th>75%</th>\n",
              "      <td>1.315404</td>\n",
              "      <td>0.186562</td>\n",
              "      <td>9.363437e-01</td>\n",
              "      <td>0.772658</td>\n",
              "    </tr>\n",
              "    <tr>\n",
              "      <th>max</th>\n",
              "      <td>2.451888</td>\n",
              "      <td>27.202839</td>\n",
              "      <td>1.640221e+00</td>\n",
              "      <td>357.359877</td>\n",
              "    </tr>\n",
              "  </tbody>\n",
              "</table>\n",
              "</div>\n",
              "    <div class=\"colab-df-buttons\">\n",
              "\n",
              "  <div class=\"colab-df-container\">\n",
              "    <button class=\"colab-df-convert\" onclick=\"convertToInteractive('df-04dd73b5-06ef-4b53-8357-f76e2b6977c8')\"\n",
              "            title=\"Convert this dataframe to an interactive table.\"\n",
              "            style=\"display:none;\">\n",
              "\n",
              "  <svg xmlns=\"http://www.w3.org/2000/svg\" height=\"24px\" viewBox=\"0 -960 960 960\">\n",
              "    <path d=\"M120-120v-720h720v720H120Zm60-500h600v-160H180v160Zm220 220h160v-160H400v160Zm0 220h160v-160H400v160ZM180-400h160v-160H180v160Zm440 0h160v-160H620v160ZM180-180h160v-160H180v160Zm440 0h160v-160H620v160Z\"/>\n",
              "  </svg>\n",
              "    </button>\n",
              "\n",
              "  <style>\n",
              "    .colab-df-container {\n",
              "      display:flex;\n",
              "      gap: 12px;\n",
              "    }\n",
              "\n",
              "    .colab-df-convert {\n",
              "      background-color: #E8F0FE;\n",
              "      border: none;\n",
              "      border-radius: 50%;\n",
              "      cursor: pointer;\n",
              "      display: none;\n",
              "      fill: #1967D2;\n",
              "      height: 32px;\n",
              "      padding: 0 0 0 0;\n",
              "      width: 32px;\n",
              "    }\n",
              "\n",
              "    .colab-df-convert:hover {\n",
              "      background-color: #E2EBFA;\n",
              "      box-shadow: 0px 1px 2px rgba(60, 64, 67, 0.3), 0px 1px 3px 1px rgba(60, 64, 67, 0.15);\n",
              "      fill: #174EA6;\n",
              "    }\n",
              "\n",
              "    .colab-df-buttons div {\n",
              "      margin-bottom: 4px;\n",
              "    }\n",
              "\n",
              "    [theme=dark] .colab-df-convert {\n",
              "      background-color: #3B4455;\n",
              "      fill: #D2E3FC;\n",
              "    }\n",
              "\n",
              "    [theme=dark] .colab-df-convert:hover {\n",
              "      background-color: #434B5C;\n",
              "      box-shadow: 0px 1px 3px 1px rgba(0, 0, 0, 0.15);\n",
              "      filter: drop-shadow(0px 1px 2px rgba(0, 0, 0, 0.3));\n",
              "      fill: #FFFFFF;\n",
              "    }\n",
              "  </style>\n",
              "\n",
              "    <script>\n",
              "      const buttonEl =\n",
              "        document.querySelector('#df-04dd73b5-06ef-4b53-8357-f76e2b6977c8 button.colab-df-convert');\n",
              "      buttonEl.style.display =\n",
              "        google.colab.kernel.accessAllowed ? 'block' : 'none';\n",
              "\n",
              "      async function convertToInteractive(key) {\n",
              "        const element = document.querySelector('#df-04dd73b5-06ef-4b53-8357-f76e2b6977c8');\n",
              "        const dataTable =\n",
              "          await google.colab.kernel.invokeFunction('convertToInteractive',\n",
              "                                                    [key], {});\n",
              "        if (!dataTable) return;\n",
              "\n",
              "        const docLinkHtml = 'Like what you see? Visit the ' +\n",
              "          '<a target=\"_blank\" href=https://colab.research.google.com/notebooks/data_table.ipynb>data table notebook</a>'\n",
              "          + ' to learn more about interactive tables.';\n",
              "        element.innerHTML = '';\n",
              "        dataTable['output_type'] = 'display_data';\n",
              "        await google.colab.output.renderOutput(dataTable, element);\n",
              "        const docLink = document.createElement('div');\n",
              "        docLink.innerHTML = docLinkHtml;\n",
              "        element.appendChild(docLink);\n",
              "      }\n",
              "    </script>\n",
              "  </div>\n",
              "\n",
              "\n",
              "<div id=\"df-aaa9fc75-12ae-4a0e-a252-d532dbddcf66\">\n",
              "  <button class=\"colab-df-quickchart\" onclick=\"quickchart('df-aaa9fc75-12ae-4a0e-a252-d532dbddcf66')\"\n",
              "            title=\"Suggest charts\"\n",
              "            style=\"display:none;\">\n",
              "\n",
              "<svg xmlns=\"http://www.w3.org/2000/svg\" height=\"24px\"viewBox=\"0 0 24 24\"\n",
              "     width=\"24px\">\n",
              "    <g>\n",
              "        <path d=\"M19 3H5c-1.1 0-2 .9-2 2v14c0 1.1.9 2 2 2h14c1.1 0 2-.9 2-2V5c0-1.1-.9-2-2-2zM9 17H7v-7h2v7zm4 0h-2V7h2v10zm4 0h-2v-4h2v4z\"/>\n",
              "    </g>\n",
              "</svg>\n",
              "  </button>\n",
              "\n",
              "<style>\n",
              "  .colab-df-quickchart {\n",
              "      --bg-color: #E8F0FE;\n",
              "      --fill-color: #1967D2;\n",
              "      --hover-bg-color: #E2EBFA;\n",
              "      --hover-fill-color: #174EA6;\n",
              "      --disabled-fill-color: #AAA;\n",
              "      --disabled-bg-color: #DDD;\n",
              "  }\n",
              "\n",
              "  [theme=dark] .colab-df-quickchart {\n",
              "      --bg-color: #3B4455;\n",
              "      --fill-color: #D2E3FC;\n",
              "      --hover-bg-color: #434B5C;\n",
              "      --hover-fill-color: #FFFFFF;\n",
              "      --disabled-bg-color: #3B4455;\n",
              "      --disabled-fill-color: #666;\n",
              "  }\n",
              "\n",
              "  .colab-df-quickchart {\n",
              "    background-color: var(--bg-color);\n",
              "    border: none;\n",
              "    border-radius: 50%;\n",
              "    cursor: pointer;\n",
              "    display: none;\n",
              "    fill: var(--fill-color);\n",
              "    height: 32px;\n",
              "    padding: 0;\n",
              "    width: 32px;\n",
              "  }\n",
              "\n",
              "  .colab-df-quickchart:hover {\n",
              "    background-color: var(--hover-bg-color);\n",
              "    box-shadow: 0 1px 2px rgba(60, 64, 67, 0.3), 0 1px 3px 1px rgba(60, 64, 67, 0.15);\n",
              "    fill: var(--button-hover-fill-color);\n",
              "  }\n",
              "\n",
              "  .colab-df-quickchart-complete:disabled,\n",
              "  .colab-df-quickchart-complete:disabled:hover {\n",
              "    background-color: var(--disabled-bg-color);\n",
              "    fill: var(--disabled-fill-color);\n",
              "    box-shadow: none;\n",
              "  }\n",
              "\n",
              "  .colab-df-spinner {\n",
              "    border: 2px solid var(--fill-color);\n",
              "    border-color: transparent;\n",
              "    border-bottom-color: var(--fill-color);\n",
              "    animation:\n",
              "      spin 1s steps(1) infinite;\n",
              "  }\n",
              "\n",
              "  @keyframes spin {\n",
              "    0% {\n",
              "      border-color: transparent;\n",
              "      border-bottom-color: var(--fill-color);\n",
              "      border-left-color: var(--fill-color);\n",
              "    }\n",
              "    20% {\n",
              "      border-color: transparent;\n",
              "      border-left-color: var(--fill-color);\n",
              "      border-top-color: var(--fill-color);\n",
              "    }\n",
              "    30% {\n",
              "      border-color: transparent;\n",
              "      border-left-color: var(--fill-color);\n",
              "      border-top-color: var(--fill-color);\n",
              "      border-right-color: var(--fill-color);\n",
              "    }\n",
              "    40% {\n",
              "      border-color: transparent;\n",
              "      border-right-color: var(--fill-color);\n",
              "      border-top-color: var(--fill-color);\n",
              "    }\n",
              "    60% {\n",
              "      border-color: transparent;\n",
              "      border-right-color: var(--fill-color);\n",
              "    }\n",
              "    80% {\n",
              "      border-color: transparent;\n",
              "      border-right-color: var(--fill-color);\n",
              "      border-bottom-color: var(--fill-color);\n",
              "    }\n",
              "    90% {\n",
              "      border-color: transparent;\n",
              "      border-bottom-color: var(--fill-color);\n",
              "    }\n",
              "  }\n",
              "</style>\n",
              "\n",
              "  <script>\n",
              "    async function quickchart(key) {\n",
              "      const quickchartButtonEl =\n",
              "        document.querySelector('#' + key + ' button');\n",
              "      quickchartButtonEl.disabled = true;  // To prevent multiple clicks.\n",
              "      quickchartButtonEl.classList.add('colab-df-spinner');\n",
              "      try {\n",
              "        const charts = await google.colab.kernel.invokeFunction(\n",
              "            'suggestCharts', [key], {});\n",
              "      } catch (error) {\n",
              "        console.error('Error during call to suggestCharts:', error);\n",
              "      }\n",
              "      quickchartButtonEl.classList.remove('colab-df-spinner');\n",
              "      quickchartButtonEl.classList.add('colab-df-quickchart-complete');\n",
              "    }\n",
              "    (() => {\n",
              "      let quickchartButtonEl =\n",
              "        document.querySelector('#df-aaa9fc75-12ae-4a0e-a252-d532dbddcf66 button');\n",
              "      quickchartButtonEl.style.display =\n",
              "        google.colab.kernel.accessAllowed ? 'block' : 'none';\n",
              "    })();\n",
              "  </script>\n",
              "</div>\n",
              "\n",
              "    </div>\n",
              "  </div>\n"
            ],
            "application/vnd.google.colaboratory.intrinsic+json": {
              "type": "dataframe",
              "summary": "{\n  \"name\": \"X_train[['V1','V21','Time','Amount']]\",\n  \"rows\": 8,\n  \"fields\": [\n    {\n      \"column\": \"V1\",\n      \"properties\": {\n        \"dtype\": \"number\",\n        \"std\": 70488.42607132901,\n        \"min\": -56.407509631329,\n        \"max\": 199364.0,\n        \"num_unique_values\": 8,\n        \"samples\": [\n          -0.0011367706559655148,\n          0.017528609662075652,\n          199364.0\n        ],\n        \"semantic_type\": \"\",\n        \"description\": \"\"\n      }\n    },\n    {\n      \"column\": \"V21\",\n      \"properties\": {\n        \"dtype\": \"number\",\n        \"std\": 70486.1715595682,\n        \"min\": -34.8303821448146,\n        \"max\": 199364.0,\n        \"num_unique_values\": 8,\n        \"samples\": [\n          0.00045857901912215007,\n          -0.02912076107127695,\n          199364.0\n        ],\n        \"semantic_type\": \"\",\n        \"description\": \"\"\n      }\n    },\n    {\n      \"column\": \"Time\",\n      \"properties\": {\n        \"dtype\": \"number\",\n        \"std\": 70485.79237520833,\n        \"min\": -1.99828568265863,\n        \"max\": 199364.0,\n        \"num_unique_values\": 8,\n        \"samples\": [\n          -1.055670824883839e-16,\n          -0.21168143399455475,\n          199364.0\n        ],\n        \"semantic_type\": \"\",\n        \"description\": \"\"\n      }\n    },\n    {\n      \"column\": \"Amount\",\n      \"properties\": {\n        \"dtype\": \"number\",\n        \"std\": 70467.64254722474,\n        \"min\": -0.3062787136294028,\n        \"max\": 199364.0,\n        \"num_unique_values\": 8,\n        \"samples\": [\n          0.9241930058733928,\n          0.0,\n          199364.0\n        ],\n        \"semantic_type\": \"\",\n        \"description\": \"\"\n      }\n    }\n  ]\n}"
            }
          },
          "metadata": {},
          "execution_count": 8
        }
      ],
      "source": [
        "X_train[['V1','V21','Time','Amount']].describe()"
      ]
    },
    {
      "cell_type": "markdown",
      "metadata": {
        "id": "jTt5am6bcMjM"
      },
      "source": [
        "#Training and evaluate model"
      ]
    },
    {
      "cell_type": "code",
      "execution_count": null,
      "metadata": {
        "id": "jz1dPtKh4la2"
      },
      "outputs": [],
      "source": [
        "from sklearn.metrics import accuracy_score, roc_auc_score, f1_score, recall_score, precision_score, classification_report, confusion_matrix\n",
        "from sklearn.model_selection import cross_val_score, StratifiedKFold\n",
        "import time\n",
        "from sklearn.linear_model import LogisticRegression\n",
        "from sklearn.tree import DecisionTreeClassifier\n",
        "from sklearn.ensemble import RandomForestClassifier\n",
        "import xgboost as xgb\n",
        "from imblearn.combine import SMOTETomek\n",
        "from imblearn.under_sampling import TomekLinks, RandomUnderSampler, NearMiss\n",
        "from imblearn.over_sampling import SMOTE, RandomOverSampler, ADASYN\n",
        "from imblearn.pipeline import Pipeline\n",
        "import joblib"
      ]
    },
    {
      "cell_type": "code",
      "execution_count": null,
      "metadata": {
        "id": "QryVaun14ndK"
      },
      "outputs": [],
      "source": [
        "def train_model(clf, X_train, y_train, resampler=None, filename=None):\n",
        "    steps = []\n",
        "    if resampler:\n",
        "        steps.append(('resampling', resampler))\n",
        "    steps.append(('classification', clf))\n",
        "    pipeline = Pipeline(steps)\n",
        "\n",
        "    start_time = time.time()\n",
        "    pipeline.fit(X_train, y_train)\n",
        "    end_time = time.time()\n",
        "    training_time = end_time - start_time\n",
        "\n",
        "    y_train_pred = pipeline.predict(X_train)\n",
        "    y_train_proba = pipeline.predict_proba(X_train)[:, 1] if hasattr(pipeline, \"predict_proba\") else None\n",
        "\n",
        "    train_report = classification_report(y_train, y_train_pred, digits=4)\n",
        "\n",
        "    train_roc_auc = roc_auc_score(y_train, y_train_proba)\n",
        "\n",
        "    model_info = {\n",
        "        'train_report': train_report,\n",
        "        'train_roc_auc': train_roc_auc,\n",
        "        'training_time': training_time,\n",
        "        'pipeline': pipeline\n",
        "    }\n",
        "\n",
        "    if filename:\n",
        "        joblib.dump(model_info, filename)\n",
        "\n",
        "    print(\"Training Report:\")\n",
        "    print(train_report)\n",
        "    if( train_roc_auc is not None):\n",
        "      print(f\"Train Set ROC AUC: {train_roc_auc:.4f}\")\n",
        "    print(f\"Training Time: {training_time:.4f} seconds\")"
      ]
    },
    {
      "cell_type": "code",
      "execution_count": null,
      "metadata": {
        "id": "QQyGQIrt43Kc"
      },
      "outputs": [],
      "source": [
        "def evaluate_model(pipeline, X_test, y_test):\n",
        "    y_test_pred = pipeline.predict(X_test)\n",
        "    y_pred_proba = pipeline.predict_proba(X_test)[:, 1] if hasattr(pipeline, \"predict_proba\") else None\n",
        "\n",
        "    test_report = classification_report(y_test, y_test_pred, digits=4)\n",
        "    test_roc_auc= roc_auc_score(y_test, y_pred_proba) if y_pred_proba is not None else None\n",
        "    cm = confusion_matrix(y_test, y_test_pred)\n",
        "\n",
        "\n",
        "    test_info = {\n",
        "        'test_report': test_report,\n",
        "        'test_roc_auc': test_roc_auc,\n",
        "        'confusion_matrix': cm\n",
        "    }\n",
        "\n",
        "    print(\"Classification Report:\")\n",
        "    print(test_report)\n",
        "    if( test_roc_auc is not None):\n",
        "      print(f\"Test Set ROC AUC: {test_roc_auc:.4f}\")\n",
        "    print(\"Confusion Matrix:\")\n",
        "    print(cm)\n"
      ]
    },
    {
      "cell_type": "markdown",
      "metadata": {
        "id": "dbHDAjljb_Gx"
      },
      "source": [
        "#No Resampling"
      ]
    },
    {
      "cell_type": "code",
      "execution_count": null,
      "metadata": {
        "colab": {
          "base_uri": "https://localhost:8080/"
        },
        "id": "xrmuI2-F45F-",
        "outputId": "06765957-86ad-4562-a8b9-5a731e7a82a0"
      },
      "outputs": [
        {
          "output_type": "stream",
          "name": "stdout",
          "text": [
            "Training Report:\n",
            "              precision    recall  f1-score   support\n",
            "\n",
            "           0     0.9994    0.9999    0.9996    199020\n",
            "           1     0.8876    0.6424    0.7454       344\n",
            "\n",
            "    accuracy                         0.9992    199364\n",
            "   macro avg     0.9435    0.8212    0.8725    199364\n",
            "weighted avg     0.9992    0.9992    0.9992    199364\n",
            "\n",
            "Train Set ROC AUC: 0.9852\n",
            "Training Time: 7.1702 seconds\n"
          ]
        }
      ],
      "source": [
        "train_model(LogisticRegression(C=1.0, max_iter=1000, solver='liblinear'), X_train, y_train, filename = 'LR.pkl')"
      ]
    },
    {
      "cell_type": "code",
      "execution_count": null,
      "metadata": {
        "colab": {
          "base_uri": "https://localhost:8080/"
        },
        "id": "ssO_2Dd448Yf",
        "outputId": "48d12dca-a815-4715-9d67-2fc414ca514f"
      },
      "outputs": [
        {
          "output_type": "stream",
          "name": "stdout",
          "text": [
            "Classification Report:\n",
            "              precision    recall  f1-score   support\n",
            "\n",
            "           0     0.9993    0.9998    0.9996     85295\n",
            "           1     0.8598    0.6216    0.7216       148\n",
            "\n",
            "    accuracy                         0.9992     85443\n",
            "   macro avg     0.9296    0.8107    0.8606     85443\n",
            "weighted avg     0.9991    0.9992    0.9991     85443\n",
            "\n",
            "Test Set ROC AUC: 0.9545\n",
            "Confusion Matrix:\n",
            "[[85280    15]\n",
            " [   56    92]]\n"
          ]
        }
      ],
      "source": [
        "logistic_regression = joblib.load('LR.pkl')\n",
        "evaluate_model(logistic_regression['pipeline'], X_test, y_test)"
      ]
    },
    {
      "cell_type": "code",
      "execution_count": null,
      "metadata": {
        "colab": {
          "base_uri": "https://localhost:8080/"
        },
        "id": "7ABVxxON5F13",
        "outputId": "3ffa73c2-b89f-4ca2-bcda-b258f182e2d3"
      },
      "outputs": [
        {
          "output_type": "stream",
          "name": "stdout",
          "text": [
            "Training Report:\n",
            "              precision    recall  f1-score   support\n",
            "\n",
            "           0     0.9997    0.9999    0.9998    199020\n",
            "           1     0.9627    0.8256    0.8889       344\n",
            "\n",
            "    accuracy                         0.9996    199364\n",
            "   macro avg     0.9812    0.9128    0.9444    199364\n",
            "weighted avg     0.9996    0.9996    0.9996    199364\n",
            "\n",
            "Train Set ROC AUC: 0.9999\n",
            "Training Time: 39.2681 seconds\n"
          ]
        }
      ],
      "source": [
        "train_model(DecisionTreeClassifier(max_depth=None, min_samples_split=5, min_samples_leaf=4), X_train, y_train, filename = 'DT.pkl')"
      ]
    },
    {
      "cell_type": "code",
      "execution_count": null,
      "metadata": {
        "colab": {
          "base_uri": "https://localhost:8080/"
        },
        "id": "3ruylnlt5PLi",
        "outputId": "1c7e4bef-91bc-454b-8b15-763efbfa7939"
      },
      "outputs": [
        {
          "output_type": "stream",
          "name": "stdout",
          "text": [
            "Classification Report:\n",
            "              precision    recall  f1-score   support\n",
            "\n",
            "           0     0.9995    0.9997    0.9996     85295\n",
            "           1     0.8217    0.7162    0.7653       148\n",
            "\n",
            "    accuracy                         0.9992     85443\n",
            "   macro avg     0.9106    0.8580    0.8825     85443\n",
            "weighted avg     0.9992    0.9992    0.9992     85443\n",
            "\n",
            "Test Set ROC AUC: 0.8917\n",
            "Confusion Matrix:\n",
            "[[85272    23]\n",
            " [   42   106]]\n"
          ]
        }
      ],
      "source": [
        "decision_tree = joblib.load('DT.pkl')\n",
        "evaluate_model(decision_tree['pipeline'], X_test, y_test)"
      ]
    },
    {
      "cell_type": "code",
      "execution_count": null,
      "metadata": {
        "colab": {
          "base_uri": "https://localhost:8080/"
        },
        "id": "mESWSgH35Uef",
        "outputId": "61cbf534-0097-4f09-adf5-19727123243e"
      },
      "outputs": [
        {
          "output_type": "stream",
          "name": "stdout",
          "text": [
            "Training Report:\n",
            "              precision    recall  f1-score   support\n",
            "\n",
            "           0     0.9997    1.0000    0.9998    199020\n",
            "           1     0.9794    0.8285    0.8976       344\n",
            "\n",
            "    accuracy                         0.9997    199364\n",
            "   macro avg     0.9895    0.9142    0.9487    199364\n",
            "weighted avg     0.9997    0.9997    0.9997    199364\n",
            "\n",
            "Train Set ROC AUC: 1.0000\n",
            "Training Time: 397.7126 seconds\n"
          ]
        }
      ],
      "source": [
        "train_model(RandomForestClassifier(n_estimators=100, max_features='sqrt', max_depth=20, min_samples_split=5, min_samples_leaf=4, n_jobs=-1), X_train, y_train, filename = 'RF.pkl')"
      ]
    },
    {
      "cell_type": "code",
      "execution_count": null,
      "metadata": {
        "colab": {
          "base_uri": "https://localhost:8080/"
        },
        "id": "K7q5WOMz5fvg",
        "outputId": "897ecca4-0fd1-4475-dbb0-3fc2a15f3cb2"
      },
      "outputs": [
        {
          "output_type": "stream",
          "name": "stdout",
          "text": [
            "Classification Report:\n",
            "              precision    recall  f1-score   support\n",
            "\n",
            "           0     0.9996    0.9999    0.9997     85295\n",
            "           1     0.9407    0.7500    0.8346       148\n",
            "\n",
            "    accuracy                         0.9995     85443\n",
            "   macro avg     0.9701    0.8750    0.9172     85443\n",
            "weighted avg     0.9995    0.9995    0.9995     85443\n",
            "\n",
            "Test Set ROC AUC: 0.9623\n",
            "Confusion Matrix:\n",
            "[[85288     7]\n",
            " [   37   111]]\n"
          ]
        }
      ],
      "source": [
        "random_forest = joblib.load('RF.pkl')\n",
        "evaluate_model(random_forest['pipeline'], X_test, y_test)"
      ]
    },
    {
      "cell_type": "code",
      "execution_count": null,
      "metadata": {
        "colab": {
          "base_uri": "https://localhost:8080/"
        },
        "id": "Ri9Xz9yR88Ui",
        "outputId": "a4f57d75-82dd-4c09-a17b-a1e7da02b329"
      },
      "outputs": [
        {
          "output_type": "stream",
          "name": "stdout",
          "text": [
            "Training Report:\n",
            "              precision    recall  f1-score   support\n",
            "\n",
            "           0     0.9999    1.0000    1.0000    199020\n",
            "           1     1.0000    0.9535    0.9762       344\n",
            "\n",
            "    accuracy                         0.9999    199364\n",
            "   macro avg     1.0000    0.9767    0.9881    199364\n",
            "weighted avg     0.9999    0.9999    0.9999    199364\n",
            "\n",
            "Train Set ROC AUC: 1.0000\n",
            "Training Time: 3.7384 seconds\n"
          ]
        }
      ],
      "source": [
        "train_model(xgb.XGBClassifier(n_estimators=100, max_depth=6, learning_rate=0.1, eval_metric='logloss', objective='binary:logistic'), X_train, y_train, filename = 'XGB.pkl')"
      ]
    },
    {
      "cell_type": "code",
      "execution_count": null,
      "metadata": {
        "colab": {
          "base_uri": "https://localhost:8080/"
        },
        "id": "s5FKXcGY8_F4",
        "outputId": "221306ba-e168-43ce-9810-2559a494527e"
      },
      "outputs": [
        {
          "output_type": "stream",
          "name": "stdout",
          "text": [
            "Classification Report:\n",
            "              precision    recall  f1-score   support\n",
            "\n",
            "           0     0.9996    1.0000    0.9998     85295\n",
            "           1     0.9655    0.7568    0.8485       148\n",
            "\n",
            "    accuracy                         0.9995     85443\n",
            "   macro avg     0.9825    0.8784    0.9241     85443\n",
            "weighted avg     0.9995    0.9995    0.9995     85443\n",
            "\n",
            "Test Set ROC AUC: 0.9673\n",
            "Confusion Matrix:\n",
            "[[85291     4]\n",
            " [   36   112]]\n"
          ]
        }
      ],
      "source": [
        "xgboost = joblib.load('XGB.pkl')\n",
        "evaluate_model(xgboost['pipeline'], X_test, y_test)"
      ]
    },
    {
      "cell_type": "markdown",
      "metadata": {
        "id": "YecdaULNYf2p"
      },
      "source": [
        "#Random Undersampling\n",
        "\n",
        "\n"
      ]
    },
    {
      "cell_type": "code",
      "execution_count": null,
      "metadata": {
        "colab": {
          "base_uri": "https://localhost:8080/"
        },
        "id": "jDRAQ8f69ZSK",
        "outputId": "e98f4c0f-b4cc-4560-f7db-6cf95405b251"
      },
      "outputs": [
        {
          "output_type": "stream",
          "name": "stdout",
          "text": [
            "Training Report:\n",
            "              precision    recall  f1-score   support\n",
            "\n",
            "           0     0.9999    0.9588    0.9789    199020\n",
            "           1     0.0382    0.9448    0.0733       344\n",
            "\n",
            "    accuracy                         0.9588    199364\n",
            "   macro avg     0.5190    0.9518    0.5261    199364\n",
            "weighted avg     0.9982    0.9588    0.9774    199364\n",
            "\n",
            "Train Set ROC AUC: 0.9878\n",
            "Training Time: 0.0556 seconds\n"
          ]
        }
      ],
      "source": [
        "train_model(LogisticRegression(C=1.0, max_iter=1000, solver='liblinear'), X_train, y_train, resampler=RandomUnderSampler(sampling_strategy='majority'), filename = 'LR_RUS.pkl')"
      ]
    },
    {
      "cell_type": "code",
      "execution_count": null,
      "metadata": {
        "colab": {
          "base_uri": "https://localhost:8080/"
        },
        "id": "G2iNybT5Y6Ad",
        "outputId": "4ba7e61a-0782-43c8-ec62-6f82fd90a12d"
      },
      "outputs": [
        {
          "output_type": "stream",
          "name": "stdout",
          "text": [
            "Classification Report:\n",
            "              precision    recall  f1-score   support\n",
            "\n",
            "           0     0.9998    0.9594    0.9792     85295\n",
            "           1     0.0364    0.8851    0.0699       148\n",
            "\n",
            "    accuracy                         0.9592     85443\n",
            "   macro avg     0.5181    0.9222    0.5245     85443\n",
            "weighted avg     0.9981    0.9592    0.9776     85443\n",
            "\n",
            "Test Set ROC AUC: 0.9668\n",
            "Confusion Matrix:\n",
            "[[81828  3467]\n",
            " [   17   131]]\n"
          ]
        }
      ],
      "source": [
        "lr_rus = joblib.load('LR_RUS.pkl')\n",
        "evaluate_model(lr_rus['pipeline'], X_test, y_test)"
      ]
    },
    {
      "cell_type": "code",
      "execution_count": null,
      "metadata": {
        "colab": {
          "base_uri": "https://localhost:8080/"
        },
        "id": "n-HzoJ41Y-r_",
        "outputId": "f0ca77df-2155-4c53-8770-094eabbb88be"
      },
      "outputs": [
        {
          "output_type": "stream",
          "name": "stdout",
          "text": [
            "Training Report:\n",
            "              precision    recall  f1-score   support\n",
            "\n",
            "           0     1.0000    0.9200    0.9583    199020\n",
            "           1     0.0206    0.9738    0.0404       344\n",
            "\n",
            "    accuracy                         0.9201    199364\n",
            "   macro avg     0.5103    0.9469    0.4993    199364\n",
            "weighted avg     0.9983    0.9201    0.9567    199364\n",
            "\n",
            "Train Set ROC AUC: 0.9722\n",
            "Training Time: 0.0717 seconds\n"
          ]
        }
      ],
      "source": [
        "train_model(DecisionTreeClassifier(max_depth=None, min_samples_split=5, min_samples_leaf=4), X_train, y_train, resampler=RandomUnderSampler(sampling_strategy='majority'), filename = 'DT_RUS.pkl')"
      ]
    },
    {
      "cell_type": "code",
      "execution_count": null,
      "metadata": {
        "colab": {
          "base_uri": "https://localhost:8080/"
        },
        "id": "kXOmAAnaZIUK",
        "outputId": "3b6ce11c-8617-4f1d-a10f-c2407b52e298"
      },
      "outputs": [
        {
          "output_type": "stream",
          "name": "stdout",
          "text": [
            "Classification Report:\n",
            "              precision    recall  f1-score   support\n",
            "\n",
            "           0     0.9998    0.9200    0.9582     85295\n",
            "           1     0.0190    0.8919    0.0372       148\n",
            "\n",
            "    accuracy                         0.9200     85443\n",
            "   macro avg     0.5094    0.9059    0.4977     85443\n",
            "weighted avg     0.9981    0.9200    0.9566     85443\n",
            "\n",
            "Test Set ROC AUC: 0.9229\n",
            "Confusion Matrix:\n",
            "[[78472  6823]\n",
            " [   16   132]]\n"
          ]
        }
      ],
      "source": [
        "dt_rus = joblib.load('DT_RUS.pkl')\n",
        "evaluate_model(dt_rus['pipeline'], X_test, y_test)"
      ]
    },
    {
      "cell_type": "code",
      "execution_count": null,
      "metadata": {
        "colab": {
          "base_uri": "https://localhost:8080/"
        },
        "id": "ccYbweIoZKIu",
        "outputId": "985907f6-9947-4ae3-d179-7be41b9411c1"
      },
      "outputs": [
        {
          "output_type": "stream",
          "name": "stdout",
          "text": [
            "Training Report:\n",
            "              precision    recall  f1-score   support\n",
            "\n",
            "           0     0.9997    1.0000    0.9998    199020\n",
            "           1     0.9694    0.8285    0.8934       344\n",
            "\n",
            "    accuracy                         0.9997    199364\n",
            "   macro avg     0.9845    0.9142    0.9466    199364\n",
            "weighted avg     0.9997    0.9997    0.9996    199364\n",
            "\n",
            "Train Set ROC AUC: 1.0000\n",
            "Training Time: 268.3384 seconds\n"
          ]
        }
      ],
      "source": [
        "train_model(RandomForestClassifier(n_estimators=100, max_features='sqrt', max_depth=20, min_samples_split=5, min_samples_leaf=4, n_jobs=-1),X_train,y_train, filename = 'RF_RUS.pkl')"
      ]
    },
    {
      "cell_type": "code",
      "execution_count": null,
      "metadata": {
        "colab": {
          "base_uri": "https://localhost:8080/"
        },
        "id": "iXymKs1oZNmZ",
        "outputId": "c7b6bf2e-4d0b-42da-9ee7-160be6205077"
      },
      "outputs": [
        {
          "output_type": "stream",
          "name": "stdout",
          "text": [
            "Classification Report:\n",
            "              precision    recall  f1-score   support\n",
            "\n",
            "           0     0.9996    0.9999    0.9997     85295\n",
            "           1     0.9407    0.7500    0.8346       148\n",
            "\n",
            "    accuracy                         0.9995     85443\n",
            "   macro avg     0.9701    0.8750    0.9172     85443\n",
            "weighted avg     0.9995    0.9995    0.9995     85443\n",
            "\n",
            "Test Set ROC AUC: 0.9568\n",
            "Confusion Matrix:\n",
            "[[85288     7]\n",
            " [   37   111]]\n"
          ]
        }
      ],
      "source": [
        "rf_rus = joblib.load('RF_RUS.pkl')\n",
        "evaluate_model(rf_rus['pipeline'], X_test, y_test)"
      ]
    },
    {
      "cell_type": "code",
      "execution_count": null,
      "metadata": {
        "colab": {
          "base_uri": "https://localhost:8080/"
        },
        "id": "9JqmE1xOZPc1",
        "outputId": "7aec0920-d178-46a6-c7dd-c8bc0382232c"
      },
      "outputs": [
        {
          "output_type": "stream",
          "name": "stdout",
          "text": [
            "Training Report:\n",
            "              precision    recall  f1-score   support\n",
            "\n",
            "           0     1.0000    0.9669    0.9832    199020\n",
            "           1     0.0496    1.0000    0.0945       344\n",
            "\n",
            "    accuracy                         0.9669    199364\n",
            "   macro avg     0.5248    0.9834    0.5389    199364\n",
            "weighted avg     0.9984    0.9669    0.9816    199364\n",
            "\n",
            "Train Set ROC AUC: 0.9978\n",
            "Training Time: 0.3454 seconds\n"
          ]
        }
      ],
      "source": [
        "train_model(xgb.XGBClassifier(n_estimators=100, max_depth=6, learning_rate=0.1, eval_metric='logloss'), X_train, y_train, resampler=RandomUnderSampler(sampling_strategy='majority'), filename = 'XGB_RUS.pkl')"
      ]
    },
    {
      "cell_type": "code",
      "execution_count": null,
      "metadata": {
        "colab": {
          "base_uri": "https://localhost:8080/"
        },
        "id": "2v7KTY9EZVtW",
        "outputId": "f1111ab9-0313-4771-a4de-07b2384cbb45"
      },
      "outputs": [
        {
          "output_type": "stream",
          "name": "stdout",
          "text": [
            "Classification Report:\n",
            "              precision    recall  f1-score   support\n",
            "\n",
            "           0     0.9998    0.9667    0.9830     85295\n",
            "           1     0.0448    0.8986    0.0853       148\n",
            "\n",
            "    accuracy                         0.9666     85443\n",
            "   macro avg     0.5223    0.9327    0.5342     85443\n",
            "weighted avg     0.9982    0.9666    0.9814     85443\n",
            "\n",
            "Test Set ROC AUC: 0.9692\n",
            "Confusion Matrix:\n",
            "[[82458  2837]\n",
            " [   15   133]]\n"
          ]
        }
      ],
      "source": [
        "xgb_rus = joblib.load('XGB_RUS.pkl')\n",
        "evaluate_model(xgb_rus['pipeline'], X_test, y_test)"
      ]
    },
    {
      "cell_type": "markdown",
      "metadata": {
        "id": "daCNKzT2c8ND"
      },
      "source": [
        "#Nearmiss"
      ]
    },
    {
      "cell_type": "code",
      "execution_count": null,
      "metadata": {
        "colab": {
          "base_uri": "https://localhost:8080/"
        },
        "id": "-rPx5odCc7CU",
        "outputId": "a8680e2f-e6a4-45d5-a081-f30798f7ed99"
      },
      "outputs": [
        {
          "output_type": "stream",
          "name": "stdout",
          "text": [
            "Training Report:\n",
            "              precision    recall  f1-score   support\n",
            "\n",
            "           0     0.9999    0.5800    0.7341    199020\n",
            "           1     0.0039    0.9564    0.0078       344\n",
            "\n",
            "    accuracy                         0.5806    199364\n",
            "   macro avg     0.5019    0.7682    0.3710    199364\n",
            "weighted avg     0.9982    0.5806    0.7329    199364\n",
            "\n",
            "Train Set ROC AUC: 0.9075\n",
            "Training Time: 1.7225 seconds\n"
          ]
        }
      ],
      "source": [
        "train_model(LogisticRegression(C=1.0, max_iter=1000, solver = 'liblinear'), X_train, y_train, resampler=NearMiss(version=1), filename = 'LR_NM1.pkl')"
      ]
    },
    {
      "cell_type": "code",
      "execution_count": null,
      "metadata": {
        "colab": {
          "base_uri": "https://localhost:8080/"
        },
        "id": "GpMMdkVse6Nn",
        "outputId": "c35466c1-c575-4eea-93e3-89e873219820"
      },
      "outputs": [
        {
          "output_type": "stream",
          "name": "stdout",
          "text": [
            "Classification Report:\n",
            "              precision    recall  f1-score   support\n",
            "\n",
            "           0     0.9998    0.5794    0.7337     85295\n",
            "           1     0.0039    0.9392    0.0077       148\n",
            "\n",
            "    accuracy                         0.5801     85443\n",
            "   macro avg     0.5018    0.7593    0.3707     85443\n",
            "weighted avg     0.9981    0.5801    0.7324     85443\n",
            "\n",
            "Test Set ROC AUC: 0.9063\n",
            "Confusion Matrix:\n",
            "[[49424 35871]\n",
            " [    9   139]]\n"
          ]
        }
      ],
      "source": [
        "lr_nm1 = joblib.load('LR_NM1.pkl')\n",
        "evaluate_model(lr_nm1['pipeline'], X_test, y_test)"
      ]
    },
    {
      "cell_type": "code",
      "execution_count": null,
      "metadata": {
        "colab": {
          "base_uri": "https://localhost:8080/"
        },
        "id": "_QAT-5nwe9M5",
        "outputId": "35cf804e-873a-4787-eec1-2576f0cf7c94"
      },
      "outputs": [
        {
          "output_type": "stream",
          "name": "stdout",
          "text": [
            "Training Report:\n",
            "              precision    recall  f1-score   support\n",
            "\n",
            "           0     0.9999    0.3714    0.5416    199020\n",
            "           1     0.0027    0.9797    0.0054       344\n",
            "\n",
            "    accuracy                         0.3724    199364\n",
            "   macro avg     0.5013    0.6755    0.2735    199364\n",
            "weighted avg     0.9982    0.3724    0.5407    199364\n",
            "\n",
            "Train Set ROC AUC: 0.7014\n",
            "Training Time: 0.9318 seconds\n"
          ]
        }
      ],
      "source": [
        "train_model(DecisionTreeClassifier(max_depth=None, min_samples_split=5, min_samples_leaf=4), X_train, y_train, resampler=NearMiss(version=1), filename = 'DT_NM1.pkl')"
      ]
    },
    {
      "cell_type": "code",
      "execution_count": null,
      "metadata": {
        "colab": {
          "base_uri": "https://localhost:8080/"
        },
        "id": "nWZcYuTviu67",
        "outputId": "3161349f-3904-4bb7-ca2e-8233f80c6f25"
      },
      "outputs": [
        {
          "output_type": "stream",
          "name": "stdout",
          "text": [
            "Classification Report:\n",
            "              precision    recall  f1-score   support\n",
            "\n",
            "           0     0.9998    0.3708    0.5410     85295\n",
            "           1     0.0026    0.9527    0.0052       148\n",
            "\n",
            "    accuracy                         0.3719     85443\n",
            "   macro avg     0.5012    0.6618    0.2731     85443\n",
            "weighted avg     0.9981    0.3719    0.5401     85443\n",
            "\n",
            "Test Set ROC AUC: 0.6854\n",
            "Confusion Matrix:\n",
            "[[31631 53664]\n",
            " [    7   141]]\n"
          ]
        }
      ],
      "source": [
        "lr_nm1 = joblib.load('DT_NM1.pkl')\n",
        "evaluate_model(lr_nm1['pipeline'], X_test, y_test)"
      ]
    },
    {
      "cell_type": "code",
      "execution_count": null,
      "metadata": {
        "colab": {
          "base_uri": "https://localhost:8080/"
        },
        "id": "1sIVtye9fYEq",
        "outputId": "cd4cdfc2-33ab-439f-bd45-58e8c650f487"
      },
      "outputs": [
        {
          "output_type": "stream",
          "name": "stdout",
          "text": [
            "Training Report:\n",
            "              precision    recall  f1-score   support\n",
            "\n",
            "           0     0.9998    0.2013    0.3351    199020\n",
            "           1     0.0021    0.9767    0.0042       344\n",
            "\n",
            "    accuracy                         0.2026    199364\n",
            "   macro avg     0.5010    0.5890    0.1696    199364\n",
            "weighted avg     0.9981    0.2026    0.3345    199364\n",
            "\n",
            "Train Set ROC AUC: 0.9521\n",
            "Training Time: 1.3457 seconds\n"
          ]
        }
      ],
      "source": [
        "train_model(RandomForestClassifier(n_estimators=100, max_features='sqrt', max_depth=20, min_samples_split=5, min_samples_leaf=4, n_jobs=-1), X_train, y_train, resampler=NearMiss(version=1), filename = 'RF_NM1.pkl')"
      ]
    },
    {
      "cell_type": "code",
      "execution_count": null,
      "metadata": {
        "colab": {
          "base_uri": "https://localhost:8080/"
        },
        "id": "PuGionHsih0c",
        "outputId": "c4eaaf8a-1a55-4c8a-bf73-14206551282c"
      },
      "outputs": [
        {
          "output_type": "stream",
          "name": "stdout",
          "text": [
            "Classification Report:\n",
            "              precision    recall  f1-score   support\n",
            "\n",
            "           0     0.9997    0.2006    0.3342     85295\n",
            "           1     0.0021    0.9662    0.0042       148\n",
            "\n",
            "    accuracy                         0.2020     85443\n",
            "   macro avg     0.5009    0.5834    0.1692     85443\n",
            "weighted avg     0.9980    0.2020    0.3336     85443\n",
            "\n",
            "Test Set ROC AUC: 0.9101\n",
            "Confusion Matrix:\n",
            "[[17113 68182]\n",
            " [    5   143]]\n"
          ]
        }
      ],
      "source": [
        "rf_nm1 = joblib.load('RF_NM1.pkl')\n",
        "evaluate_model(rf_nm1['pipeline'], X_test, y_test)"
      ]
    },
    {
      "cell_type": "code",
      "execution_count": null,
      "metadata": {
        "colab": {
          "base_uri": "https://localhost:8080/"
        },
        "id": "vXWd_mkoisC8",
        "outputId": "c09d4d66-a75c-4bff-ec53-9103098fc802"
      },
      "outputs": [
        {
          "output_type": "stream",
          "name": "stdout",
          "text": [
            "Training Report:\n",
            "              precision    recall  f1-score   support\n",
            "\n",
            "           0     1.0000    0.1406    0.2465    199020\n",
            "           1     0.0020    1.0000    0.0040       344\n",
            "\n",
            "    accuracy                         0.1421    199364\n",
            "   macro avg     0.5010    0.5703    0.1253    199364\n",
            "weighted avg     0.9983    0.1421    0.2461    199364\n",
            "\n",
            "Train Set ROC AUC: 0.9315\n",
            "Training Time: 1.1785 seconds\n"
          ]
        }
      ],
      "source": [
        "train_model(xgb.XGBClassifier(n_estimators=100, max_depth=6, learning_rate=0.1, eval_metric='logloss'), X_train, y_train, resampler=NearMiss(version=1), filename = 'XGB_NM1.pkl')"
      ]
    },
    {
      "cell_type": "code",
      "execution_count": null,
      "metadata": {
        "colab": {
          "base_uri": "https://localhost:8080/"
        },
        "id": "Z52JUVOHkZ7x",
        "outputId": "1b7594c4-e1ae-4706-d171-64c963e65a8f"
      },
      "outputs": [
        {
          "output_type": "stream",
          "name": "stdout",
          "text": [
            "Classification Report:\n",
            "              precision    recall  f1-score   support\n",
            "\n",
            "           0     0.9996    0.1386    0.2434     85295\n",
            "           1     0.0019    0.9662    0.0039       148\n",
            "\n",
            "    accuracy                         0.1400     85443\n",
            "   macro avg     0.5008    0.5524    0.1237     85443\n",
            "weighted avg     0.9978    0.1400    0.2430     85443\n",
            "\n",
            "Test Set ROC AUC: 0.8710\n",
            "Confusion Matrix:\n",
            "[[11822 73473]\n",
            " [    5   143]]\n"
          ]
        }
      ],
      "source": [
        "xgb_nm1 = joblib.load('XGB_NM1.pkl')\n",
        "evaluate_model(xgb_nm1['pipeline'], X_test, y_test)"
      ]
    },
    {
      "cell_type": "markdown",
      "metadata": {
        "id": "q4Syz-pqkc_h"
      },
      "source": [
        "#Tomek Link"
      ]
    },
    {
      "cell_type": "code",
      "execution_count": null,
      "metadata": {
        "colab": {
          "base_uri": "https://localhost:8080/"
        },
        "id": "rVAgu5vmkbII",
        "outputId": "cfc3b783-9172-4ab4-8d8c-51cd6147cc8d"
      },
      "outputs": [
        {
          "output_type": "stream",
          "name": "stdout",
          "text": [
            "Training Report:\n",
            "              precision    recall  f1-score   support\n",
            "\n",
            "           0     0.9994    0.9999    0.9996    199020\n",
            "           1     0.8893    0.6541    0.7538       344\n",
            "\n",
            "    accuracy                         0.9993    199364\n",
            "   macro avg     0.9444    0.8270    0.8767    199364\n",
            "weighted avg     0.9992    0.9993    0.9992    199364\n",
            "\n",
            "Train Set ROC AUC: 0.9852\n",
            "Training Time: 300.8212 seconds\n"
          ]
        }
      ],
      "source": [
        "train_model(LogisticRegression(C=1.0, max_iter=1000, solver = 'liblinear'), X_train, y_train, resampler=TomekLinks(sampling_strategy='auto'), filename = 'LR_TL.pkl')"
      ]
    },
    {
      "cell_type": "code",
      "execution_count": null,
      "metadata": {
        "colab": {
          "base_uri": "https://localhost:8080/"
        },
        "id": "ctvbCIT0ktQd",
        "outputId": "5ca1b425-5c77-4bec-cc6f-5641d402658e"
      },
      "outputs": [
        {
          "output_type": "stream",
          "name": "stdout",
          "text": [
            "Classification Report:\n",
            "              precision    recall  f1-score   support\n",
            "\n",
            "           0     0.9994    0.9998    0.9996     85295\n",
            "           1     0.8611    0.6284    0.7266       148\n",
            "\n",
            "    accuracy                         0.9992     85443\n",
            "   macro avg     0.9302    0.8141    0.8631     85443\n",
            "weighted avg     0.9991    0.9992    0.9991     85443\n",
            "\n",
            "Test Set ROC AUC: 0.9547\n",
            "Confusion Matrix:\n",
            "[[85280    15]\n",
            " [   55    93]]\n"
          ]
        }
      ],
      "source": [
        "lr_tl = joblib.load('LR_TL.pkl')\n",
        "evaluate_model(lr_tl['pipeline'], X_test, y_test)"
      ]
    },
    {
      "cell_type": "code",
      "execution_count": null,
      "metadata": {
        "colab": {
          "base_uri": "https://localhost:8080/"
        },
        "id": "6U43myOFkv5k",
        "outputId": "10bac6a9-10cc-4f92-c64c-a914597f8728"
      },
      "outputs": [
        {
          "output_type": "stream",
          "name": "stdout",
          "text": [
            "Training Report:\n",
            "              precision    recall  f1-score   support\n",
            "\n",
            "           0     0.9997    0.9999    0.9998    199020\n",
            "           1     0.9659    0.8227    0.8885       344\n",
            "\n",
            "    accuracy                         0.9996    199364\n",
            "   macro avg     0.9828    0.9113    0.9442    199364\n",
            "weighted avg     0.9996    0.9996    0.9996    199364\n",
            "\n",
            "Train Set ROC AUC: 0.9999\n",
            "Training Time: 324.5523 seconds\n"
          ]
        }
      ],
      "source": [
        "train_model(DecisionTreeClassifier(max_depth=None, min_samples_split=5, min_samples_leaf=4), X_train, y_train, resampler=TomekLinks(sampling_strategy='auto'), filename = 'DT_TL.pkl')"
      ]
    },
    {
      "cell_type": "code",
      "execution_count": null,
      "metadata": {
        "colab": {
          "base_uri": "https://localhost:8080/"
        },
        "id": "7Ippb6LnkycJ",
        "outputId": "3e2a90a1-9d18-43d0-a12e-fc0d95a6f82d"
      },
      "outputs": [
        {
          "output_type": "stream",
          "name": "stdout",
          "text": [
            "Classification Report:\n",
            "              precision    recall  f1-score   support\n",
            "\n",
            "           0     0.9995    0.9998    0.9996     85295\n",
            "           1     0.8548    0.7162    0.7794       148\n",
            "\n",
            "    accuracy                         0.9993     85443\n",
            "   macro avg     0.9272    0.8580    0.8895     85443\n",
            "weighted avg     0.9993    0.9993    0.9993     85443\n",
            "\n",
            "Test Set ROC AUC: 0.8917\n",
            "Confusion Matrix:\n",
            "[[85277    18]\n",
            " [   42   106]]\n"
          ]
        }
      ],
      "source": [
        "dt_tl = joblib.load('DT_TL.pkl')\n",
        "evaluate_model(dt_tl['pipeline'], X_test, y_test)"
      ]
    },
    {
      "cell_type": "code",
      "execution_count": null,
      "metadata": {
        "id": "ri3CZ2n7k0MM",
        "colab": {
          "base_uri": "https://localhost:8080/"
        },
        "outputId": "bb856cab-342a-4b54-90c8-0f8c2aad7218"
      },
      "outputs": [
        {
          "output_type": "stream",
          "name": "stdout",
          "text": [
            "Training Report:\n",
            "              precision    recall  f1-score   support\n",
            "\n",
            "           0     0.9997    0.9999    0.9998    199020\n",
            "           1     0.9663    0.8343    0.8955       344\n",
            "\n",
            "    accuracy                         0.9997    199364\n",
            "   macro avg     0.9830    0.9171    0.9477    199364\n",
            "weighted avg     0.9997    0.9997    0.9997    199364\n",
            "\n",
            "Train Set ROC AUC: 1.0000\n",
            "Training Time: 563.1356 seconds\n"
          ]
        }
      ],
      "source": [
        "train_model(RandomForestClassifier(n_estimators=100, max_features='sqrt', max_depth=20, min_samples_split=5, min_samples_leaf=4, n_jobs=-1), X_train, y_train, resampler=TomekLinks(sampling_strategy='auto'), filename = 'RF_TL.pkl')"
      ]
    },
    {
      "cell_type": "code",
      "execution_count": null,
      "metadata": {
        "colab": {
          "base_uri": "https://localhost:8080/"
        },
        "id": "pMcIv_Hjk5QU",
        "outputId": "244d844a-342a-477a-9ed7-ca898d587ccf"
      },
      "outputs": [
        {
          "output_type": "stream",
          "name": "stdout",
          "text": [
            "Classification Report:\n",
            "              precision    recall  f1-score   support\n",
            "\n",
            "           0     0.9996    0.9999    0.9997     85295\n",
            "           1     0.9262    0.7635    0.8370       148\n",
            "\n",
            "    accuracy                         0.9995     85443\n",
            "   macro avg     0.9629    0.8817    0.9184     85443\n",
            "weighted avg     0.9995    0.9995    0.9995     85443\n",
            "\n",
            "Test Set ROC AUC: 0.9701\n",
            "Confusion Matrix:\n",
            "[[85286     9]\n",
            " [   35   113]]\n"
          ]
        }
      ],
      "source": [
        "rf_tl = joblib.load('RF_TL.pkl')\n",
        "evaluate_model(rf_tl['pipeline'], X_test, y_test)"
      ]
    },
    {
      "cell_type": "code",
      "execution_count": null,
      "metadata": {
        "colab": {
          "base_uri": "https://localhost:8080/"
        },
        "id": "zJM-EeJ7k70-",
        "outputId": "323fcf50-2592-4b1b-86ff-d760ebfdf4a0"
      },
      "outputs": [
        {
          "output_type": "stream",
          "name": "stdout",
          "text": [
            "Training Report:\n",
            "              precision    recall  f1-score   support\n",
            "\n",
            "           0     0.9999    1.0000    0.9999    199020\n",
            "           1     0.9819    0.9477    0.9645       344\n",
            "\n",
            "    accuracy                         0.9999    199364\n",
            "   macro avg     0.9909    0.9738    0.9822    199364\n",
            "weighted avg     0.9999    0.9999    0.9999    199364\n",
            "\n",
            "Train Set ROC AUC: 1.0000\n",
            "Training Time: 295.1815 seconds\n"
          ]
        }
      ],
      "source": [
        "train_model(xgb.XGBClassifier(n_estimators=100, max_depth=6, learning_rate=0.1, eval_metric='logloss'), X_train, y_train, resampler=TomekLinks(sampling_strategy='auto'), filename = 'XGB_TL.pkl')"
      ]
    },
    {
      "cell_type": "code",
      "execution_count": null,
      "metadata": {
        "colab": {
          "base_uri": "https://localhost:8080/"
        },
        "id": "PzJWZLASlTei",
        "outputId": "48ece1d6-0326-4f1b-c741-2f4b18f14925"
      },
      "outputs": [
        {
          "output_type": "stream",
          "name": "stdout",
          "text": [
            "Classification Report:\n",
            "              precision    recall  f1-score   support\n",
            "\n",
            "           0     0.9996    0.9999    0.9997     85295\n",
            "           1     0.9174    0.7500    0.8253       148\n",
            "\n",
            "    accuracy                         0.9994     85443\n",
            "   macro avg     0.9585    0.8749    0.9125     85443\n",
            "weighted avg     0.9994    0.9994    0.9994     85443\n",
            "\n",
            "Test Set ROC AUC: 0.9633\n",
            "Confusion Matrix:\n",
            "[[85285    10]\n",
            " [   37   111]]\n"
          ]
        }
      ],
      "source": [
        "xgb_tl = joblib.load('XGB_TL.pkl')\n",
        "evaluate_model(xgb_tl['pipeline'], X_test, y_test)"
      ]
    },
    {
      "cell_type": "markdown",
      "metadata": {
        "id": "PtD6JN63m-z_"
      },
      "source": [
        "#Random Oversampling"
      ]
    },
    {
      "cell_type": "code",
      "execution_count": null,
      "metadata": {
        "colab": {
          "base_uri": "https://localhost:8080/"
        },
        "id": "xpvSdBEKlU2g",
        "outputId": "70d317b3-8ab5-4b26-9e6a-d2b100dc7ddd"
      },
      "outputs": [
        {
          "output_type": "stream",
          "name": "stdout",
          "text": [
            "Training Report:\n",
            "              precision    recall  f1-score   support\n",
            "\n",
            "           0     0.9999    0.9795    0.9896    199020\n",
            "           1     0.0726    0.9302    0.1347       344\n",
            "\n",
            "    accuracy                         0.9794    199364\n",
            "   macro avg     0.5363    0.9549    0.5622    199364\n",
            "weighted avg     0.9983    0.9794    0.9881    199364\n",
            "\n",
            "Train Set ROC AUC: 0.9916\n",
            "Training Time: 9.2526 seconds\n"
          ]
        }
      ],
      "source": [
        "train_model(LogisticRegression(C=1.0, max_iter=1000, solver = 'liblinear'), X_train, y_train, resampler=RandomOverSampler(sampling_strategy='minority'), filename = 'LR_ROS.pkl')"
      ]
    },
    {
      "cell_type": "code",
      "execution_count": null,
      "metadata": {
        "colab": {
          "base_uri": "https://localhost:8080/"
        },
        "id": "4pqYkA8QnMWT",
        "outputId": "71f709d4-6ee1-4917-eaf8-cc663f72ce5c"
      },
      "outputs": [
        {
          "output_type": "stream",
          "name": "stdout",
          "text": [
            "Classification Report:\n",
            "              precision    recall  f1-score   support\n",
            "\n",
            "           0     0.9998    0.9790    0.9893     85295\n",
            "           1     0.0676    0.8784    0.1255       148\n",
            "\n",
            "    accuracy                         0.9788     85443\n",
            "   macro avg     0.5337    0.9287    0.5574     85443\n",
            "weighted avg     0.9982    0.9788    0.9878     85443\n",
            "\n",
            "Test Set ROC AUC: 0.9679\n",
            "Confusion Matrix:\n",
            "[[83501  1794]\n",
            " [   18   130]]\n"
          ]
        }
      ],
      "source": [
        "lr_ros = joblib.load('LR_ROS.pkl')\n",
        "evaluate_model(lr_ros['pipeline'], X_test, y_test)"
      ]
    },
    {
      "cell_type": "code",
      "execution_count": null,
      "metadata": {
        "colab": {
          "base_uri": "https://localhost:8080/"
        },
        "id": "EVCnkrUwnNjo",
        "outputId": "c6252c3c-f4c6-4a11-d3b2-2656a8c3145c"
      },
      "outputs": [
        {
          "output_type": "stream",
          "name": "stdout",
          "text": [
            "Training Report:\n",
            "              precision    recall  f1-score   support\n",
            "\n",
            "           0     1.0000    0.9998    0.9999    199020\n",
            "           1     0.9149    1.0000    0.9556       344\n",
            "\n",
            "    accuracy                         0.9998    199364\n",
            "   macro avg     0.9574    0.9999    0.9777    199364\n",
            "weighted avg     0.9999    0.9998    0.9998    199364\n",
            "\n",
            "Train Set ROC AUC: 1.0000\n",
            "Training Time: 18.2180 seconds\n"
          ]
        }
      ],
      "source": [
        "train_model(DecisionTreeClassifier(max_depth=None, min_samples_split=5, min_samples_leaf=4), X_train, y_train, resampler=RandomOverSampler(sampling_strategy='minority'), filename = 'DT_ROS.pkl')"
      ]
    },
    {
      "cell_type": "code",
      "execution_count": null,
      "metadata": {
        "colab": {
          "base_uri": "https://localhost:8080/"
        },
        "id": "PW80DykhnPdN",
        "outputId": "5223f39a-29ab-4bc3-eb4e-909d5b4b0dc0"
      },
      "outputs": [
        {
          "output_type": "stream",
          "name": "stdout",
          "text": [
            "Classification Report:\n",
            "              precision    recall  f1-score   support\n",
            "\n",
            "           0     0.9995    0.9994    0.9995     85295\n",
            "           1     0.6797    0.7027    0.6910       148\n",
            "\n",
            "    accuracy                         0.9989     85443\n",
            "   macro avg     0.8396    0.8511    0.8452     85443\n",
            "weighted avg     0.9989    0.9989    0.9989     85443\n",
            "\n",
            "Test Set ROC AUC: 0.8511\n",
            "Confusion Matrix:\n",
            "[[85246    49]\n",
            " [   44   104]]\n"
          ]
        }
      ],
      "source": [
        "dt_ros = joblib.load('DT_ROS.pkl')\n",
        "evaluate_model(dt_ros['pipeline'], X_test, y_test)"
      ]
    },
    {
      "cell_type": "code",
      "execution_count": null,
      "metadata": {
        "colab": {
          "base_uri": "https://localhost:8080/"
        },
        "id": "-vjj7zG_nUBl",
        "outputId": "837840fb-66bb-4e97-e2e8-af8fde7ba098"
      },
      "outputs": [
        {
          "output_type": "stream",
          "name": "stdout",
          "text": [
            "Training Report:\n",
            "              precision    recall  f1-score   support\n",
            "\n",
            "           0     1.0000    0.9999    0.9999    199020\n",
            "           1     0.9322    1.0000    0.9649       344\n",
            "\n",
            "    accuracy                         0.9999    199364\n",
            "   macro avg     0.9661    0.9999    0.9824    199364\n",
            "weighted avg     0.9999    0.9999    0.9999    199364\n",
            "\n",
            "Train Set ROC AUC: 1.0000\n",
            "Training Time: 204.9468 seconds\n"
          ]
        }
      ],
      "source": [
        "train_model(RandomForestClassifier(n_estimators=100, max_features='sqrt', max_depth=20, min_samples_split=5, min_samples_leaf=4, n_jobs=-1), X_train, y_train, resampler=RandomOverSampler(sampling_strategy='minority'), filename = 'RF_ROS.pkl')"
      ]
    },
    {
      "cell_type": "code",
      "execution_count": null,
      "metadata": {
        "colab": {
          "base_uri": "https://localhost:8080/"
        },
        "id": "CG0vOISCnXUh",
        "outputId": "801b89f0-2ae7-46b5-e503-13a8edf16106"
      },
      "outputs": [
        {
          "output_type": "stream",
          "name": "stdout",
          "text": [
            "Classification Report:\n",
            "              precision    recall  f1-score   support\n",
            "\n",
            "           0     0.9996    0.9998    0.9997     85295\n",
            "           1     0.8819    0.7568    0.8145       148\n",
            "\n",
            "    accuracy                         0.9994     85443\n",
            "   macro avg     0.9407    0.8783    0.9071     85443\n",
            "weighted avg     0.9994    0.9994    0.9994     85443\n",
            "\n",
            "Test Set ROC AUC: 0.9426\n",
            "Confusion Matrix:\n",
            "[[85280    15]\n",
            " [   36   112]]\n"
          ]
        }
      ],
      "source": [
        "rf_ros = joblib.load('RF_ROS.pkl')\n",
        "evaluate_model(rf_ros['pipeline'], X_test, y_test)"
      ]
    },
    {
      "cell_type": "code",
      "execution_count": null,
      "metadata": {
        "colab": {
          "base_uri": "https://localhost:8080/"
        },
        "id": "9Ogr5sO3nZ-v",
        "outputId": "9f4fc8b6-49d3-4e29-838d-81b28f74a5ca"
      },
      "outputs": [
        {
          "output_type": "stream",
          "name": "stdout",
          "text": [
            "Training Report:\n",
            "              precision    recall  f1-score   support\n",
            "\n",
            "           0     1.0000    0.9998    0.9999    199020\n",
            "           1     0.9005    1.0000    0.9477       344\n",
            "\n",
            "    accuracy                         0.9998    199364\n",
            "   macro avg     0.9503    0.9999    0.9738    199364\n",
            "weighted avg     0.9998    0.9998    0.9998    199364\n",
            "\n",
            "Train Set ROC AUC: 1.0000\n",
            "Training Time: 10.2764 seconds\n"
          ]
        }
      ],
      "source": [
        "train_model(xgb.XGBClassifier(n_estimators=100, max_depth=6, learning_rate=0.1, eval_metric='logloss'), X_train, y_train, resampler=RandomOverSampler(sampling_strategy='minority'), filename = 'XGB_ROS.pkl')"
      ]
    },
    {
      "cell_type": "code",
      "execution_count": null,
      "metadata": {
        "colab": {
          "base_uri": "https://localhost:8080/"
        },
        "id": "O_kCHmGpnmeE",
        "outputId": "2d25ea63-b791-4aa9-b4e6-1f487afcc417"
      },
      "outputs": [
        {
          "output_type": "stream",
          "name": "stdout",
          "text": [
            "Classification Report:\n",
            "              precision    recall  f1-score   support\n",
            "\n",
            "           0     0.9996    0.9997    0.9996     85295\n",
            "           1     0.8042    0.7770    0.7904       148\n",
            "\n",
            "    accuracy                         0.9993     85443\n",
            "   macro avg     0.9019    0.8883    0.8950     85443\n",
            "weighted avg     0.9993    0.9993    0.9993     85443\n",
            "\n",
            "Test Set ROC AUC: 0.9694\n",
            "Confusion Matrix:\n",
            "[[85267    28]\n",
            " [   33   115]]\n"
          ]
        }
      ],
      "source": [
        "xgb_ros = joblib.load('XGB_ROS.pkl')\n",
        "evaluate_model(xgb_ros['pipeline'], X_test, y_test)"
      ]
    },
    {
      "cell_type": "markdown",
      "metadata": {
        "id": "a0p37yBABu-I"
      },
      "source": [
        "#SMOTE"
      ]
    },
    {
      "cell_type": "code",
      "execution_count": null,
      "metadata": {
        "colab": {
          "base_uri": "https://localhost:8080/"
        },
        "id": "kVcPu5HdByPG",
        "outputId": "98699d30-9a30-4d91-edb7-9831d65b9903"
      },
      "outputs": [
        {
          "output_type": "stream",
          "name": "stdout",
          "text": [
            "Training Report:\n",
            "              precision    recall  f1-score   support\n",
            "\n",
            "           0     0.9999    0.9782    0.9889    199020\n",
            "           1     0.0692    0.9390    0.1289       344\n",
            "\n",
            "    accuracy                         0.9781    199364\n",
            "   macro avg     0.5345    0.9586    0.5589    199364\n",
            "weighted avg     0.9983    0.9781    0.9874    199364\n",
            "\n",
            "Train Set ROC AUC: 0.9908\n",
            "Training Time: 9.6495 seconds\n"
          ]
        }
      ],
      "source": [
        "train_model(LogisticRegression(C=1.0, max_iter=1000, solver = 'liblinear'), X_train, y_train, resampler=SMOTE(sampling_strategy='minority'), filename = 'LR_SMOTE.pkl')"
      ]
    },
    {
      "cell_type": "code",
      "execution_count": null,
      "metadata": {
        "colab": {
          "base_uri": "https://localhost:8080/"
        },
        "id": "f0vg4kAfB1Mx",
        "outputId": "d3a97a6f-5181-4ca8-93c2-81c393ada746"
      },
      "outputs": [
        {
          "output_type": "stream",
          "name": "stdout",
          "text": [
            "Classification Report:\n",
            "              precision    recall  f1-score   support\n",
            "\n",
            "           0     0.9998    0.9781    0.9888     85295\n",
            "           1     0.0650    0.8784    0.1211       148\n",
            "\n",
            "    accuracy                         0.9779     85443\n",
            "   macro avg     0.5324    0.9282    0.5550     85443\n",
            "weighted avg     0.9982    0.9779    0.9873     85443\n",
            "\n",
            "Test Set ROC AUC: 0.9661\n",
            "Confusion Matrix:\n",
            "[[83426  1869]\n",
            " [   18   130]]\n"
          ]
        }
      ],
      "source": [
        "lr_smote = joblib.load('LR_SMOTE.pkl')\n",
        "evaluate_model(lr_smote['pipeline'], X_test, y_test)"
      ]
    },
    {
      "cell_type": "code",
      "execution_count": null,
      "metadata": {
        "colab": {
          "base_uri": "https://localhost:8080/"
        },
        "id": "dihb_b6bJuBV",
        "outputId": "ac1962ca-218b-4f78-9263-b24f470bb842"
      },
      "outputs": [
        {
          "output_type": "stream",
          "name": "stdout",
          "text": [
            "Training Report:\n",
            "              precision    recall  f1-score   support\n",
            "\n",
            "           0     0.9999    0.9996    0.9998    199020\n",
            "           1     0.8000    0.9651    0.8748       344\n",
            "\n",
            "    accuracy                         0.9995    199364\n",
            "   macro avg     0.9000    0.9823    0.9373    199364\n",
            "weighted avg     0.9996    0.9995    0.9995    199364\n",
            "\n",
            "Train Set ROC AUC: 1.0000\n",
            "Training Time: 64.0514 seconds\n"
          ]
        }
      ],
      "source": [
        "train_model(DecisionTreeClassifier(max_depth=None, min_samples_split=5, min_samples_leaf=4), X_train, y_train, resampler=SMOTE(sampling_strategy='minority'), filename = 'DT_SMOTE.pkl')"
      ]
    },
    {
      "cell_type": "code",
      "execution_count": null,
      "metadata": {
        "colab": {
          "base_uri": "https://localhost:8080/"
        },
        "id": "G7-DqEE3acpO",
        "outputId": "f5fd627f-4c41-4adc-e2e2-120a0f188582"
      },
      "outputs": [
        {
          "output_type": "stream",
          "name": "stdout",
          "text": [
            "Classification Report:\n",
            "              precision    recall  f1-score   support\n",
            "\n",
            "           0     0.9996    0.9981    0.9988     85295\n",
            "           1     0.4022    0.7500    0.5236       148\n",
            "\n",
            "    accuracy                         0.9976     85443\n",
            "   macro avg     0.7009    0.8740    0.7612     85443\n",
            "weighted avg     0.9985    0.9976    0.9980     85443\n",
            "\n",
            "Test Set ROC AUC: 0.8908\n",
            "Confusion Matrix:\n",
            "[[85130   165]\n",
            " [   37   111]]\n"
          ]
        }
      ],
      "source": [
        "dt_smote = joblib.load('DT_SMOTE.pkl')\n",
        "evaluate_model(dt_smote['pipeline'], X_test, y_test)"
      ]
    },
    {
      "cell_type": "code",
      "execution_count": null,
      "metadata": {
        "colab": {
          "base_uri": "https://localhost:8080/"
        },
        "id": "PdJPT2fCag6G",
        "outputId": "3fac7c8a-caaa-405f-9f7e-da5988c7bdfd"
      },
      "outputs": [
        {
          "output_type": "stream",
          "name": "stdout",
          "text": [
            "Training Report:\n",
            "              precision    recall  f1-score   support\n",
            "\n",
            "           0     1.0000    0.9998    0.9999    199020\n",
            "           1     0.8798    1.0000    0.9361       344\n",
            "\n",
            "    accuracy                         0.9998    199364\n",
            "   macro avg     0.9399    0.9999    0.9680    199364\n",
            "weighted avg     0.9998    0.9998    0.9998    199364\n",
            "\n",
            "Train Set ROC AUC: 1.0000\n",
            "Training Time: 447.2312 seconds\n"
          ]
        }
      ],
      "source": [
        "train_model(RandomForestClassifier(n_estimators=100, max_features='sqrt', max_depth=20, min_samples_split=5, min_samples_leaf=4, n_jobs=-1), X_train, y_train, resampler=SMOTE(sampling_strategy='minority'), filename = 'RF_SMOTE.pkl')"
      ]
    },
    {
      "cell_type": "code",
      "execution_count": null,
      "metadata": {
        "colab": {
          "base_uri": "https://localhost:8080/"
        },
        "id": "jtDnAgnUarj7",
        "outputId": "940f11c0-6ac4-4d61-929b-620f4c55ed1b"
      },
      "outputs": [
        {
          "output_type": "stream",
          "name": "stdout",
          "text": [
            "Classification Report:\n",
            "              precision    recall  f1-score   support\n",
            "\n",
            "           0     0.9997    0.9996    0.9996     85295\n",
            "           1     0.7628    0.8041    0.7829       148\n",
            "\n",
            "    accuracy                         0.9992     85443\n",
            "   macro avg     0.8812    0.9018    0.8913     85443\n",
            "weighted avg     0.9992    0.9992    0.9992     85443\n",
            "\n",
            "Test Set ROC AUC: 0.9650\n",
            "Confusion Matrix:\n",
            "[[85258    37]\n",
            " [   29   119]]\n"
          ]
        }
      ],
      "source": [
        "rf_smote = joblib.load('RF_SMOTE.pkl')\n",
        "evaluate_model(rf_smote['pipeline'], X_test, y_test)"
      ]
    },
    {
      "cell_type": "code",
      "execution_count": null,
      "metadata": {
        "colab": {
          "base_uri": "https://localhost:8080/"
        },
        "id": "OAMGFDnIa05S",
        "outputId": "f2c48ebb-afa6-43a3-ad59-9ca2df212dc8"
      },
      "outputs": [
        {
          "output_type": "stream",
          "name": "stdout",
          "text": [
            "Training Report:\n",
            "              precision    recall  f1-score   support\n",
            "\n",
            "           0     1.0000    0.9983    0.9992    199020\n",
            "           1     0.5089    1.0000    0.6745       344\n",
            "\n",
            "    accuracy                         0.9983    199364\n",
            "   macro avg     0.7544    0.9992    0.8368    199364\n",
            "weighted avg     0.9992    0.9983    0.9986    199364\n",
            "\n",
            "Train Set ROC AUC: 1.0000\n",
            "Training Time: 11.6207 seconds\n"
          ]
        }
      ],
      "source": [
        "train_model(xgb.XGBClassifier(n_estimators=100, max_depth=6, learning_rate=0.1, eval_metric='logloss'), X_train, y_train, resampler=SMOTE(sampling_strategy='minority'), filename = 'XGB_SMOTE.pkl')"
      ]
    },
    {
      "cell_type": "code",
      "execution_count": null,
      "metadata": {
        "colab": {
          "base_uri": "https://localhost:8080/"
        },
        "id": "_TFHAN-DbIgq",
        "outputId": "40201ed5-832c-45ff-f149-6e2a8ada9e41"
      },
      "outputs": [
        {
          "output_type": "stream",
          "name": "stdout",
          "text": [
            "Classification Report:\n",
            "              precision    recall  f1-score   support\n",
            "\n",
            "           0     0.9997    0.9974    0.9986     85295\n",
            "           1     0.3576    0.8311    0.5000       148\n",
            "\n",
            "    accuracy                         0.9971     85443\n",
            "   macro avg     0.6786    0.9142    0.7493     85443\n",
            "weighted avg     0.9986    0.9971    0.9977     85443\n",
            "\n",
            "Test Set ROC AUC: 0.9715\n",
            "Confusion Matrix:\n",
            "[[85074   221]\n",
            " [   25   123]]\n"
          ]
        }
      ],
      "source": [
        "xgb_smote = joblib.load('XGB_SMOTE.pkl')\n",
        "evaluate_model(xgb_smote['pipeline'], X_test, y_test)"
      ]
    },
    {
      "cell_type": "markdown",
      "metadata": {
        "id": "chWMlMLubK4d"
      },
      "source": [
        "#ADASYN"
      ]
    },
    {
      "cell_type": "code",
      "execution_count": null,
      "metadata": {
        "colab": {
          "base_uri": "https://localhost:8080/"
        },
        "id": "IxQHsdcxbNAO",
        "outputId": "7742d818-b04b-4056-a057-a124da908265"
      },
      "outputs": [
        {
          "output_type": "stream",
          "name": "stdout",
          "text": [
            "Training Report:\n",
            "              precision    recall  f1-score   support\n",
            "\n",
            "           0     0.9999    0.9342    0.9659    199020\n",
            "           1     0.0247    0.9651    0.0482       344\n",
            "\n",
            "    accuracy                         0.9342    199364\n",
            "   macro avg     0.5123    0.9497    0.5071    199364\n",
            "weighted avg     0.9983    0.9342    0.9644    199364\n",
            "\n",
            "Train Set ROC AUC: 0.9914\n",
            "Training Time: 13.2990 seconds\n"
          ]
        }
      ],
      "source": [
        "train_model(LogisticRegression(C=1.0, max_iter=1000, solver = 'liblinear'), X_train, y_train, resampler=ADASYN(sampling_strategy='minority'), filename = 'LR_ADASYN.pkl')"
      ]
    },
    {
      "cell_type": "code",
      "execution_count": null,
      "metadata": {
        "colab": {
          "base_uri": "https://localhost:8080/"
        },
        "id": "wIrdh7fvbQFC",
        "outputId": "0cbb9d20-e19d-49ad-f762-3502e7045742"
      },
      "outputs": [
        {
          "output_type": "stream",
          "name": "stdout",
          "text": [
            "Classification Report:\n",
            "              precision    recall  f1-score   support\n",
            "\n",
            "           0     0.9998    0.9338    0.9657     85295\n",
            "           1     0.0232    0.9054    0.0452       148\n",
            "\n",
            "    accuracy                         0.9337     85443\n",
            "   macro avg     0.5115    0.9196    0.5054     85443\n",
            "weighted avg     0.9981    0.9337    0.9641     85443\n",
            "\n",
            "Test Set ROC AUC: 0.9659\n",
            "Confusion Matrix:\n",
            "[[79646  5649]\n",
            " [   14   134]]\n"
          ]
        }
      ],
      "source": [
        "lr_adaysyn = joblib.load('LR_ADASYN.pkl')\n",
        "evaluate_model(lr_adaysyn['pipeline'], X_test, y_test)"
      ]
    },
    {
      "cell_type": "code",
      "execution_count": null,
      "metadata": {
        "colab": {
          "base_uri": "https://localhost:8080/"
        },
        "id": "HH87SQwqbURl",
        "outputId": "fdef3109-a1f1-4992-b79a-7a8e19c47f31"
      },
      "outputs": [
        {
          "output_type": "stream",
          "name": "stdout",
          "text": [
            "Training Report:\n",
            "              precision    recall  f1-score   support\n",
            "\n",
            "           0     0.9999    0.9995    0.9997    199020\n",
            "           1     0.7635    0.9477    0.8457       344\n",
            "\n",
            "    accuracy                         0.9994    199364\n",
            "   macro avg     0.8817    0.9736    0.9227    199364\n",
            "weighted avg     0.9995    0.9994    0.9994    199364\n",
            "\n",
            "Train Set ROC AUC: 0.9999\n",
            "Training Time: 69.3648 seconds\n"
          ]
        }
      ],
      "source": [
        "train_model(DecisionTreeClassifier(max_depth=None, min_samples_split=5, min_samples_leaf=4), X_train, y_train, resampler=ADASYN(sampling_strategy='minority'), filename = 'DT_ADASYN.pkl')"
      ]
    },
    {
      "cell_type": "code",
      "execution_count": null,
      "metadata": {
        "colab": {
          "base_uri": "https://localhost:8080/"
        },
        "id": "nyeO1HAHbYZV",
        "outputId": "995eff94-83fe-4879-9c6d-6a5613cfc644"
      },
      "outputs": [
        {
          "output_type": "stream",
          "name": "stdout",
          "text": [
            "Classification Report:\n",
            "              precision    recall  f1-score   support\n",
            "\n",
            "           0     0.9995    0.9978    0.9987     85295\n",
            "           1     0.3576    0.6959    0.4725       148\n",
            "\n",
            "    accuracy                         0.9973     85443\n",
            "   macro avg     0.6786    0.8469    0.7356     85443\n",
            "weighted avg     0.9984    0.9973    0.9977     85443\n",
            "\n",
            "Test Set ROC AUC: 0.8670\n",
            "Confusion Matrix:\n",
            "[[85110   185]\n",
            " [   45   103]]\n"
          ]
        }
      ],
      "source": [
        "dt_adasyn = joblib.load('DT_ADASYN.pkl')\n",
        "evaluate_model(dt_adasyn['pipeline'], X_test, y_test)"
      ]
    },
    {
      "cell_type": "code",
      "execution_count": null,
      "metadata": {
        "colab": {
          "base_uri": "https://localhost:8080/"
        },
        "id": "Ygjb2f-TbeJk",
        "outputId": "76eeb605-32c2-47c9-fc43-435938bcc7b2"
      },
      "outputs": [
        {
          "output_type": "stream",
          "name": "stdout",
          "text": [
            "Training Report:\n",
            "              precision    recall  f1-score   support\n",
            "\n",
            "           0     1.0000    0.9988    0.9994    199020\n",
            "           1     0.5931    1.0000    0.7446       344\n",
            "\n",
            "    accuracy                         0.9988    199364\n",
            "   macro avg     0.7966    0.9994    0.8720    199364\n",
            "weighted avg     0.9993    0.9988    0.9990    199364\n",
            "\n",
            "Train Set ROC AUC: 1.0000\n",
            "Training Time: 398.1834 seconds\n"
          ]
        }
      ],
      "source": [
        "train_model(RandomForestClassifier(n_estimators=100, max_features='sqrt', max_depth=20, min_samples_split=5, min_samples_leaf=4, n_jobs=-1), X_train, y_train, resampler=ADASYN(sampling_strategy='minority'), filename = 'RF_ADASYN.pkl')"
      ]
    },
    {
      "cell_type": "code",
      "execution_count": null,
      "metadata": {
        "colab": {
          "base_uri": "https://localhost:8080/"
        },
        "id": "84N1OnXmbskH",
        "outputId": "d543b0de-f848-4553-bafe-d668ddfdae6f"
      },
      "outputs": [
        {
          "output_type": "stream",
          "name": "stdout",
          "text": [
            "Classification Report:\n",
            "              precision    recall  f1-score   support\n",
            "\n",
            "           0     0.9996    0.9988    0.9992     85295\n",
            "           1     0.5342    0.7905    0.6376       148\n",
            "\n",
            "    accuracy                         0.9984     85443\n",
            "   macro avg     0.7669    0.8947    0.8184     85443\n",
            "weighted avg     0.9988    0.9984    0.9986     85443\n",
            "\n",
            "Test Set ROC AUC: 0.9694\n",
            "Confusion Matrix:\n",
            "[[85193   102]\n",
            " [   31   117]]\n"
          ]
        }
      ],
      "source": [
        "rf_adasyn = joblib.load('RF_ADASYN.pkl')\n",
        "evaluate_model(rf_adasyn['pipeline'], X_test, y_test)"
      ]
    },
    {
      "cell_type": "code",
      "execution_count": null,
      "metadata": {
        "colab": {
          "base_uri": "https://localhost:8080/"
        },
        "id": "vnV81w18bxsB",
        "outputId": "4bef593c-d3c8-47ed-de2b-ffde10bc9863"
      },
      "outputs": [
        {
          "output_type": "stream",
          "name": "stdout",
          "text": [
            "Training Report:\n",
            "              precision    recall  f1-score   support\n",
            "\n",
            "           0     1.0000    0.9969    0.9984    199020\n",
            "           1     0.3554    1.0000    0.5244       344\n",
            "\n",
            "    accuracy                         0.9969    199364\n",
            "   macro avg     0.6777    0.9984    0.7614    199364\n",
            "weighted avg     0.9989    0.9969    0.9976    199364\n",
            "\n",
            "Train Set ROC AUC: 1.0000\n",
            "Training Time: 11.1236 seconds\n"
          ]
        }
      ],
      "source": [
        "train_model(xgb.XGBClassifier(n_estimators=100, max_depth=6, learning_rate=0.1, eval_metric='logloss'), X_train, y_train, resampler=ADASYN(sampling_strategy='minority'), filename = 'XGB_ADASYN.pkl')"
      ]
    },
    {
      "cell_type": "code",
      "execution_count": null,
      "metadata": {
        "colab": {
          "base_uri": "https://localhost:8080/"
        },
        "id": "Q_lY-4xcb1WY",
        "outputId": "3db8a4c5-d5d0-42c1-a1c3-d6c13a05c123"
      },
      "outputs": [
        {
          "output_type": "stream",
          "name": "stdout",
          "text": [
            "Classification Report:\n",
            "              precision    recall  f1-score   support\n",
            "\n",
            "           0     0.9997    0.9958    0.9977     85295\n",
            "           1     0.2542    0.8243    0.3885       148\n",
            "\n",
            "    accuracy                         0.9955     85443\n",
            "   macro avg     0.6269    0.9101    0.6931     85443\n",
            "weighted avg     0.9984    0.9955    0.9967     85443\n",
            "\n",
            "Test Set ROC AUC: 0.9727\n",
            "Confusion Matrix:\n",
            "[[84937   358]\n",
            " [   26   122]]\n"
          ]
        }
      ],
      "source": [
        "xgb_adasyn = joblib.load('XGB_ADASYN.pkl')\n",
        "evaluate_model(xgb_adasyn['pipeline'], X_test, y_test)"
      ]
    },
    {
      "cell_type": "markdown",
      "metadata": {
        "id": "zZV2qTFtay-2"
      },
      "source": [
        "#Hybrid"
      ]
    },
    {
      "cell_type": "code",
      "execution_count": null,
      "metadata": {
        "colab": {
          "base_uri": "https://localhost:8080/"
        },
        "id": "c--TWN9ze7Bw",
        "outputId": "659bc8a1-6999-4836-9d85-341a77862560"
      },
      "outputs": [
        {
          "output_type": "stream",
          "name": "stdout",
          "text": [
            "Training Report:\n",
            "              precision    recall  f1-score   support\n",
            "\n",
            "           0     1.0000    0.9982    0.9991    199020\n",
            "           1     0.4893    1.0000    0.6571       344\n",
            "\n",
            "    accuracy                         0.9982    199364\n",
            "   macro avg     0.7447    0.9991    0.8281    199364\n",
            "weighted avg     0.9991    0.9982    0.9985    199364\n",
            "\n",
            "Train Set ROC AUC: 1.0000\n",
            "Training Time: 1161.0057 seconds\n"
          ]
        }
      ],
      "source": [
        "train_model(xgb.XGBClassifier(n_estimators=100, max_depth=6, learning_rate=0.1, eval_metric='logloss',scale_pos_weight=1),X_train,y_train, resampler=SMOTETomek(sampling_strategy='auto'), filename='smotetomek_xgb.pkl')"
      ]
    },
    {
      "cell_type": "code",
      "source": [
        "smotetomek_xgb = joblib.load('smotetomek_xgb.pkl')\n",
        "evaluate_model(smotetomek_xgb['pipeline'], X_test, y_test)"
      ],
      "metadata": {
        "colab": {
          "base_uri": "https://localhost:8080/"
        },
        "id": "UeKQVQKqFHS1",
        "outputId": "fa4cc5c2-d096-43ed-ac67-8219a4dfddea"
      },
      "execution_count": null,
      "outputs": [
        {
          "output_type": "stream",
          "name": "stdout",
          "text": [
            "Classification Report:\n",
            "              precision    recall  f1-score   support\n",
            "\n",
            "           0     0.9997    0.9974    0.9986     85295\n",
            "           1     0.3634    0.8446    0.5081       148\n",
            "\n",
            "    accuracy                         0.9972     85443\n",
            "   macro avg     0.6816    0.9210    0.7534     85443\n",
            "weighted avg     0.9986    0.9972    0.9977     85443\n",
            "\n",
            "Test Set ROC AUC: 0.9715\n",
            "Confusion Matrix:\n",
            "[[85076   219]\n",
            " [   23   125]]\n"
          ]
        }
      ]
    },
    {
      "cell_type": "code",
      "execution_count": null,
      "metadata": {
        "id": "2LbAs9WjeN-V",
        "colab": {
          "base_uri": "https://localhost:8080/"
        },
        "outputId": "fe3e74ca-4f2a-4390-8c2f-d589f2ba59ba"
      },
      "outputs": [
        {
          "output_type": "stream",
          "name": "stdout",
          "text": [
            "Training Report:\n",
            "              precision    recall  f1-score   support\n",
            "\n",
            "           0     1.0000    0.9999    1.0000    199020\n",
            "           1     0.9556    1.0000    0.9773       344\n",
            "\n",
            "    accuracy                         0.9999    199364\n",
            "   macro avg     0.9778    1.0000    0.9886    199364\n",
            "weighted avg     0.9999    0.9999    0.9999    199364\n",
            "\n",
            "Train Set ROC AUC: 1.0000\n",
            "Training Time: 1485.4643 seconds\n"
          ]
        }
      ],
      "source": [
        "train_model(RandomForestClassifier(n_estimators=100,max_features='sqrt',max_depth=20,min_samples_split=5,class_weight='balanced', n_jobs=-1), X_train, y_train, resampler=SMOTETomek(sampling_strategy='auto'), filename='smotetomek_rf.pkl')"
      ]
    },
    {
      "cell_type": "code",
      "source": [
        "rf_smotetomek = joblib.load('smotetomek_rf.pkl')\n",
        "evaluate_model(rf_smotetomek['pipeline'], X_test, y_test)"
      ],
      "metadata": {
        "colab": {
          "base_uri": "https://localhost:8080/"
        },
        "id": "ZqaaMRZKFSBA",
        "outputId": "4a87c170-d547-44b0-f4e2-f509fa770afb"
      },
      "execution_count": null,
      "outputs": [
        {
          "output_type": "stream",
          "name": "stdout",
          "text": [
            "Classification Report:\n",
            "              precision    recall  f1-score   support\n",
            "\n",
            "           0     0.9996    0.9997    0.9997     85295\n",
            "           1     0.8027    0.7973    0.8000       148\n",
            "\n",
            "    accuracy                         0.9993     85443\n",
            "   macro avg     0.9012    0.8985    0.8998     85443\n",
            "weighted avg     0.9993    0.9993    0.9993     85443\n",
            "\n",
            "Test Set ROC AUC: 0.9625\n",
            "Confusion Matrix:\n",
            "[[85266    29]\n",
            " [   30   118]]\n"
          ]
        }
      ]
    },
    {
      "cell_type": "markdown",
      "metadata": {
        "id": "ctSRPUrzpNOW"
      },
      "source": [
        "#Check distribution"
      ]
    },
    {
      "cell_type": "code",
      "execution_count": null,
      "metadata": {
        "colab": {
          "base_uri": "https://localhost:8080/"
        },
        "id": "9dlqftuluKJC",
        "outputId": "bc05ffe6-bf4f-4334-e222-1f6c5b8f1eed"
      },
      "outputs": [
        {
          "name": "stdout",
          "output_type": "stream",
          "text": [
            "Class distribution in Training Set: {'Class 0': 199020, 'Class 1': 344}\n",
            "Class distribution in Testing Set: {'Class 0': 85295, 'Class 1': 148}\n"
          ]
        }
      ],
      "source": [
        "y_train_distribution = {\n",
        "    'Class 0': y_train.value_counts()[0],\n",
        "    'Class 1': y_train.value_counts()[1]\n",
        "}\n",
        "y_test_distribution = {\n",
        "    'Class 0': y_test.value_counts()[0],\n",
        "    'Class 1': y_test.value_counts()[1]\n",
        "}\n",
        "print(\"Class distribution in Training Set:\", y_train_distribution)\n",
        "print(\"Class distribution in Testing Set:\", y_test_distribution)"
      ]
    },
    {
      "cell_type": "code",
      "execution_count": null,
      "metadata": {
        "id": "GLvpy5QasLSJ"
      },
      "outputs": [],
      "source": [
        "def check_resampled_distribution(X, y, resampler):\n",
        "    X_resampled, y_resampled = resampler.fit_resample(X, y)\n",
        "    class_distribution = {\n",
        "        'Class 0': y_resampled.value_counts()[0],\n",
        "        'Class 1': y_resampled.value_counts()[1]\n",
        "    }\n",
        "    return class_distribution"
      ]
    },
    {
      "cell_type": "code",
      "execution_count": null,
      "metadata": {
        "colab": {
          "base_uri": "https://localhost:8080/"
        },
        "id": "vBWoOhlHsOdr",
        "outputId": "b3c634ba-b25d-41b1-b138-07c11dfeb6bd"
      },
      "outputs": [
        {
          "output_type": "stream",
          "name": "stdout",
          "text": [
            "Class distribution after RandomUnderSampler: {'Class 0': 344, 'Class 1': 344}\n",
            "Class distribution after NearMiss: {'Class 0': 344, 'Class 1': 344}\n",
            "Class distribution after TomekLinks: {'Class 0': 199002, 'Class 1': 344}\n",
            "Class distribution after RandomOverSampling: {'Class 0': 199020, 'Class 1': 199020}\n",
            "Class distribution after SMOTE: {'Class 0': 199020, 'Class 1': 199020}\n",
            "Class distribution after ADASYN: {'Class 0': 199020, 'Class 1': 198975}\n"
          ]
        }
      ],
      "source": [
        "#RUS\n",
        "rus_resampler = RandomUnderSampler(sampling_strategy='majority')\n",
        "rus_train_distribution = check_resampled_distribution(X_train, y_train, rus_resampler)\n",
        "print(\"Class distribution after RandomUnderSampler:\", rus_train_distribution)\n",
        "#NearMiss\n",
        "nm_resampler = NearMiss(version=1)\n",
        "nm_train_distribution = check_resampled_distribution(X_train, y_train, nm_resampler)\n",
        "print(\"Class distribution after NearMiss:\", nm_train_distribution)\n",
        "#TomekLink\n",
        "tl_resampler = TomekLinks(sampling_strategy='auto')\n",
        "tl_train_distribution = check_resampled_distribution(X_train, y_train, tl_resampler)\n",
        "print(\"Class distribution after TomekLinks:\", tl_train_distribution)\n",
        "#ROS\n",
        "ros_resampler = RandomOverSampler(sampling_strategy='minority')\n",
        "ros_train_distribution = check_resampled_distribution(X_train, y_train, ros_resampler)\n",
        "print(\"Class distribution after RandomOverSampling:\", ros_train_distribution)\n",
        "#SMOTE\n",
        "smote_resampler = SMOTE(sampling_strategy='minority')\n",
        "smote_train_distribution = check_resampled_distribution(X_train, y_train, smote_resampler)\n",
        "print(\"Class distribution after SMOTE:\", smote_train_distribution)\n",
        "#ADSYN\n",
        "adasyn_resampler = ADASYN(sampling_strategy='minority')\n",
        "adasyn_train_distribution = check_resampled_distribution(X_train, y_train, adasyn_resampler)\n",
        "print(\"Class distribution after ADASYN:\", adasyn_train_distribution)\n",
        "#SMOTETomek\n",
        "smotetomek_resampler = SMOTETomek(sampling_strategy='auto')\n",
        "smotetomek_train_distribution = check_resampled_distribution(X_train, y_train, smotetomek_resampler)"
      ]
    },
    {
      "cell_type": "code",
      "source": [
        "print(\"Class distribution after SMOTETomek:\", smotetomek_train_distribution)"
      ],
      "metadata": {
        "colab": {
          "base_uri": "https://localhost:8080/"
        },
        "id": "WO-jHKpMbJOt",
        "outputId": "60d3b612-c852-484c-f50c-22c51d89c9ce"
      },
      "execution_count": null,
      "outputs": [
        {
          "output_type": "stream",
          "name": "stdout",
          "text": [
            "Class distribution after SMOTETomek: {'Class 0': 199020, 'Class 1': 199020}\n"
          ]
        }
      ]
    },
    {
      "cell_type": "code",
      "source": [],
      "metadata": {
        "id": "hSqS5xJcbK6v"
      },
      "execution_count": null,
      "outputs": []
    }
  ],
  "metadata": {
    "colab": {
      "collapsed_sections": [
        "BQaGCvlZDkd_",
        "ctSRPUrzpNOW"
      ],
      "provenance": [],
      "authorship_tag": "ABX9TyNm+M9JKv1WGMCYxAbNsanu",
      "include_colab_link": true
    },
    "kernelspec": {
      "display_name": "Python 3",
      "name": "python3"
    },
    "language_info": {
      "name": "python"
    }
  },
  "nbformat": 4,
  "nbformat_minor": 0
}